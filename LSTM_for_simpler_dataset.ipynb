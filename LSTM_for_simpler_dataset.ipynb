{
  "cells": [
    {
      "cell_type": "markdown",
      "metadata": {
        "id": "view-in-github",
        "colab_type": "text"
      },
      "source": [
        "<a href=\"https://colab.research.google.com/github/panagiotakf/Predicting-Fuel-Consumption-in-Shipping-by-Using-ML/blob/main/LSTM_for_simpler_dataset.ipynb\" target=\"_parent\"><img src=\"https://colab.research.google.com/assets/colab-badge.svg\" alt=\"Open In Colab\"/></a>"
      ]
    },
    {
      "cell_type": "code",
      "execution_count": null,
      "id": "5026ed55",
      "metadata": {
        "id": "5026ed55"
      },
      "outputs": [],
      "source": [
        "# Importing the libraries\n",
        "import numpy as np\n",
        "import matplotlib.pyplot as plt\n",
        "import pandas as pd\n",
        "import sklearn\n",
        "from sklearn.preprocessing import StandardScaler\n",
        "from sklearn.metrics import silhouette_score\n",
        "from time import time\n",
        "from sklearn.neighbors import NearestCentroid\n",
        "import pickle\n",
        "import scipy.io\n",
        "from sklearn.model_selection import train_test_split\n",
        "from sklearn.preprocessing import Normalizer, MinMaxScaler\n",
        "from sklearn.neural_network import MLPRegressor, MLPClassifier\n",
        "from sklearn.metrics import log_loss, r2_score,mean_squared_error,accuracy_score,confusion_matrix,roc_curve\n",
        "from keras.models import Sequential\n",
        "from keras.layers import LSTM\n",
        "from keras.layers import Dense, Dropout\n",
        "import seaborn as sns\n",
        "from keras import optimizers"
      ]
    },
    {
      "cell_type": "code",
      "execution_count": null,
      "id": "52f35012",
      "metadata": {
        "id": "52f35012"
      },
      "outputs": [],
      "source": [
        "NUM_OF_HIDDEN_LAYERS = 3\n",
        "NEURON_MULTIPLIER = 10\n",
        "LR = [0.1, 0.01, 0.001, 0.0001, 0.00001]"
      ]
    },
    {
      "cell_type": "code",
      "execution_count": null,
      "id": "124a772f",
      "metadata": {
        "id": "124a772f",
        "outputId": "93ef58e4-91bb-4cc8-fcac-0053513b4d91"
      },
      "outputs": [
        {
          "name": "stdout",
          "output_type": "stream",
          "text": [
            "[[  0   0   0 ...   0   0   0]\n",
            " [  0   0   0 ...   0   0   0]\n",
            " [  0   0   0 ...   0   0   0]\n",
            " ...\n",
            " [100 100 100 ...  12  12  12]\n",
            " [100 100 100 ...  12  12  12]\n",
            " [100 100 100 ...  12  12  12]]\n",
            "y:  [0 0 0 ... 1 1 1]\n"
          ]
        }
      ],
      "source": [
        "# Importing the dataset\n",
        "dataset = pd.read_csv('MCS_dataset_W=3_C=2.csv')\n",
        "X = dataset.iloc[:, :-1].values\n",
        "y = dataset.iloc[:, -1].values\n",
        "print(X)\n",
        "print('y: ',y)\n",
        "#OUTPUT_L = np.zeros((len(LR), NUM_OF_HIDDEN_LAYERS))"
      ]
    },
    {
      "cell_type": "code",
      "execution_count": null,
      "id": "90b734d3",
      "metadata": {
        "id": "90b734d3"
      },
      "outputs": [],
      "source": [
        "# training-test split\n",
        "X_train, X_test, y_train, y_test = train_test_split(X, y, test_size=12100, random_state=0)"
      ]
    },
    {
      "cell_type": "code",
      "execution_count": null,
      "id": "72126985",
      "metadata": {
        "id": "72126985",
        "outputId": "42bfbc26-a33d-41a6-a071-9d09f6607c83"
      },
      "outputs": [
        {
          "name": "stdout",
          "output_type": "stream",
          "text": [
            "156380\n",
            "156380\n",
            "12100\n",
            "12100\n",
            "6004\n"
          ]
        }
      ],
      "source": [
        "print(len(X_train))\n",
        "print(len(y_train))\n",
        "print(len(X_test))\n",
        "print(len(y_test))\n",
        "count=0\n",
        "for i in y_test:\n",
        "    #print(i)\n",
        "    if(i==1):\n",
        "        count=count+1\n",
        "print(count)"
      ]
    },
    {
      "cell_type": "code",
      "execution_count": null,
      "id": "d37d70d0",
      "metadata": {
        "id": "d37d70d0",
        "outputId": "cd7f8227-3b7c-48f3-96f4-5ff77371ece8"
      },
      "outputs": [
        {
          "name": "stdout",
          "output_type": "stream",
          "text": [
            "[[0.   0.   0.03 ... 0.   0.   0.  ]\n",
            " [1.   1.   1.   ... 0.25 0.25 0.25]\n",
            " [1.   1.   1.   ... 0.2  0.2  0.2 ]\n",
            " ...\n",
            " [1.   1.   1.   ... 0.6  0.6  0.6 ]\n",
            " [1.   1.   1.   ... 0.65 0.65 0.65]\n",
            " [1.   1.   1.   ... 0.4  0.4  0.4 ]]\n"
          ]
        }
      ],
      "source": [
        "#MinMaxScaling\n",
        "#only for input, because we have classification\n",
        "scaler_data=MinMaxScaler()\n",
        "\n",
        "X_train=scaler_data.fit_transform(X_train)\n",
        "X_test=scaler_data.transform(X_test)\n",
        "print(X_test)"
      ]
    },
    {
      "cell_type": "code",
      "execution_count": null,
      "id": "d6a520c3",
      "metadata": {
        "id": "d6a520c3",
        "outputId": "94f9f952-ff7b-40a9-870a-9cba0d4a8f8d"
      },
      "outputs": [
        {
          "name": "stdout",
          "output_type": "stream",
          "text": [
            "(156380, 3, 3)\n"
          ]
        }
      ],
      "source": [
        "trainX=X_train.reshape(X_train.shape[0],3,3)\n",
        "print(trainX.shape)"
      ]
    },
    {
      "cell_type": "code",
      "execution_count": null,
      "id": "2390a91e",
      "metadata": {
        "id": "2390a91e",
        "outputId": "4ba2e5bd-a714-458c-e041-c7d69b77b988"
      },
      "outputs": [
        {
          "name": "stdout",
          "output_type": "stream",
          "text": [
            "Model: \"sequential_11\"\n",
            "_________________________________________________________________\n",
            " Layer (type)                Output Shape              Param #   \n",
            "=================================================================\n",
            " lstm_32 (LSTM)              (None, 3, 64)             17408     \n",
            "                                                                 \n",
            " lstm_33 (LSTM)              (None, 32)                12416     \n",
            "                                                                 \n",
            " dropout_11 (Dropout)        (None, 32)                0         \n",
            "                                                                 \n",
            " dense_11 (Dense)            (None, 1)                 33        \n",
            "                                                                 \n",
            "=================================================================\n",
            "Total params: 29,857\n",
            "Trainable params: 29,857\n",
            "Non-trainable params: 0\n",
            "_________________________________________________________________\n"
          ]
        }
      ],
      "source": [
        "#πάμε να φτιάξουμε την δομή του lSTM\n",
        "model = Sequential()\n",
        "model.add(LSTM(64, input_shape=(trainX.shape[1], trainX.shape[2]), return_sequences=True))\n",
        "model.add(LSTM(32, return_sequences=False))\n",
        "model.add(Dropout(0.2)) #για να εμποδίσει το overfitting.\n",
        "model.add(Dense(1, activation='sigmoid')) #sigmoid is important for classication\n",
        "\n",
        "model.compile(optimizer='adam', loss='mse')\n",
        "model.summary()"
      ]
    },
    {
      "cell_type": "code",
      "execution_count": null,
      "id": "d3f7abf6",
      "metadata": {
        "id": "d3f7abf6",
        "outputId": "a9701b55-de21-4f81-8e7a-e2ae74f9ea6b"
      },
      "outputs": [
        {
          "name": "stdout",
          "output_type": "stream",
          "text": [
            "Epoch 1/3\n",
            "8797/8797 [==============================] - 155s 16ms/step - loss: 0.0036 - val_loss: 0.0013\n",
            "Epoch 2/3\n",
            "8797/8797 [==============================] - 149s 17ms/step - loss: 0.0014 - val_loss: 0.0012\n",
            "Epoch 3/3\n",
            "8797/8797 [==============================] - 154s 18ms/step - loss: 0.0013 - val_loss: 0.0012\n"
          ]
        },
        {
          "data": {
            "text/plain": [
              "<matplotlib.legend.Legend at 0x2a599801ee0>"
            ]
          },
          "execution_count": 33,
          "metadata": {},
          "output_type": "execute_result"
        },
        {
          "data": {
            "image/png": "[encoded data removed]",
            "text/plain": [
              "<Figure size 432x288 with 1 Axes>"
            ]
          },
          "metadata": {
            "needs_background": "light"
          },
          "output_type": "display_data"
        }
      ],
      "source": [
        "history = model.fit(trainX, y_train, epochs=3, batch_size=16, validation_split=0.1, verbose=1)\n",
        "\n",
        "plt.plot(history.history['loss'], label='Training loss')\n",
        "plt.plot(history.history['val_loss'], label='Validation loss')\n",
        "plt.legend()"
      ]
    },
    {
      "cell_type": "code",
      "execution_count": null,
      "id": "cfc884b7",
      "metadata": {
        "id": "cfc884b7",
        "outputId": "6360731b-10ed-4d4d-9554-28fc3069ad92"
      },
      "outputs": [
        {
          "name": "stdout",
          "output_type": "stream",
          "text": [
            "379/379 [==============================] - 5s 8ms/step\n"
          ]
        }
      ],
      "source": [
        "#predict\n",
        "testX=X_test.reshape(X_test.shape[0],3,3)\n",
        "prediction = model.predict(testX)"
      ]
    },
    {
      "cell_type": "code",
      "execution_count": null,
      "id": "a059c5eb",
      "metadata": {
        "id": "a059c5eb",
        "outputId": "a03a86aa-8ea9-4df0-8e12-24d7df776430"
      },
      "outputs": [
        {
          "name": "stdout",
          "output_type": "stream",
          "text": [
            "[0 1 1 ... 1 1 1]\n",
            "[[0.]\n",
            " [1.]\n",
            " [1.]\n",
            " ...\n",
            " [1.]\n",
            " [1.]\n",
            " [1.]]\n"
          ]
        }
      ],
      "source": [
        "print(y_test)\n",
        "prediction=np.round(prediction)\n",
        "for i in range(len(prediction)):\n",
        "    prediction[i]=int(prediction[i])\n",
        "print(prediction)"
      ]
    },
    {
      "cell_type": "code",
      "execution_count": null,
      "id": "98cd248a",
      "metadata": {
        "id": "98cd248a",
        "outputId": "f6b5d100-b6bd-4de2-a86c-85e3c1faa2b8"
      },
      "outputs": [
        {
          "name": "stdout",
          "output_type": "stream",
          "text": [
            "0.9983471074380166\n"
          ]
        }
      ],
      "source": [
        "#Accuracy\n",
        "print(accuracy_score(y_test,prediction))\n",
        "dbfile = open('Test_set_for_W=3_C=2', 'wb')\n",
        "pickle.dump(y_test,dbfile )\n",
        "dbfile.close()\n",
        "dbfile = open('Predictions_for_W=3_C=2', 'wb')\n",
        "pickle.dump(prediction,dbfile )\n",
        "dbfile.close()\n"
      ]
    },
    {
      "cell_type": "code",
      "execution_count": null,
      "id": "d12b6df5",
      "metadata": {
        "id": "d12b6df5",
        "outputId": "18fc8877-f621-4d2b-cbdd-adfddbd3ddce"
      },
      "outputs": [
        {
          "data": {
            "text/plain": [
              "Text(0.5, 1.0, 'Confusion Matrix')"
            ]
          },
          "execution_count": 37,
          "metadata": {},
          "output_type": "execute_result"
        },
        {
          "data": {
            "image/png": "[encoded data removed]",
            "text/plain": [
              "<Figure size 432x288 with 2 Axes>"
            ]
          },
          "metadata": {
            "needs_background": "light"
          },
          "output_type": "display_data"
        }
      ],
      "source": [
        "#confusion matrix\n",
        "cf_matrix = confusion_matrix(y_test,prediction)\n",
        "#print(cf_matrix)\n",
        "sns.heatmap(cf_matrix/np.sum(cf_matrix), annot=True, fmt='.2%', cmap='summer')\n",
        "plt.title('Confusion Matrix')"
      ]
    },
    {
      "cell_type": "code",
      "execution_count": null,
      "id": "5e96083d",
      "metadata": {
        "id": "5e96083d",
        "outputId": "6737cfff-ff35-45d1-eda4-039a633bdd06"
      },
      "outputs": [
        {
          "data": {
            "image/png": "[encoded data removed]",
            "text/plain": [
              "<Figure size 432x288 with 1 Axes>"
            ]
          },
          "metadata": {
            "needs_background": "light"
          },
          "output_type": "display_data"
        }
      ],
      "source": [
        "#ROC Curve\n",
        "fpr, tpr, _ = roc_curve(y_test,  prediction)\n",
        "\n",
        "#create ROC curve\n",
        "plt.plot(fpr,tpr)\n",
        "plt.ylabel('True Positive Rate')\n",
        "plt.xlabel('False Positive Rate')\n",
        "plt.title('ROC Curve')\n",
        "plt.show()"
      ]
    },
    {
      "cell_type": "code",
      "execution_count": null,
      "id": "f4a2e009",
      "metadata": {
        "id": "f4a2e009"
      },
      "outputs": [],
      "source": [
        "def LSTM_train(trainX,y_train,X_test,y_test,lr,W):\n",
        "    #πάμε να φτιάξουμε την δομή του lSTM\n",
        "    model = Sequential()\n",
        "    model.add(LSTM(64, input_shape=(trainX.shape[1], trainX.shape[2]), return_sequences=True))\n",
        "    model.add(LSTM(32, return_sequences=False))\n",
        "    model.add(Dropout(0.2)) #για να εμποδίσει το overfitting.\n",
        "    model.add(Dense(1, activation='sigmoid')) #sigmoid is important for classication\n",
        "\n",
        "    opt = optimizers.Adam(learning_rate=lr)\n",
        "    model.compile(optimizer=opt, loss='mse')\n",
        "    model.summary()\n",
        "    #train\n",
        "    history = model.fit(trainX, y_train, epochs=3, batch_size=16, validation_split=0.1, verbose=1)\n",
        "    #predict\n",
        "    testX=X_test.reshape(X_test.shape[0],W,3)\n",
        "    prediction = model.predict(testX)\n",
        "    prediction=np.round(prediction)\n",
        "    for i in range(len(prediction)):\n",
        "        prediction[i]=int(prediction[i])\n",
        "    return accuracy_score(y_test,prediction)"
      ]
    },
    {
      "cell_type": "code",
      "execution_count": null,
      "id": "39836c81",
      "metadata": {
        "id": "39836c81",
        "outputId": "a560f491-5397-46b4-df1b-27781eaf0857"
      },
      "outputs": [
        {
          "name": "stdout",
          "output_type": "stream",
          "text": [
            "Model: \"sequential_14\"\n",
            "_________________________________________________________________\n",
            " Layer (type)                Output Shape              Param #   \n",
            "=================================================================\n",
            " lstm_38 (LSTM)              (None, 6, 64)             17408     \n",
            "                                                                 \n",
            " lstm_39 (LSTM)              (None, 32)                12416     \n",
            "                                                                 \n",
            " dropout_14 (Dropout)        (None, 32)                0         \n",
            "                                                                 \n",
            " dense_14 (Dense)            (None, 1)                 33        \n",
            "                                                                 \n",
            "=================================================================\n",
            "Total params: 29,857\n",
            "Trainable params: 29,857\n",
            "Non-trainable params: 0\n",
            "_________________________________________________________________\n",
            "Epoch 1/3\n",
            "27022/27022 [==============================] - 828s 30ms/step - loss: 0.0196 - val_loss: 0.0019\n",
            "Epoch 2/3\n",
            "27022/27022 [==============================] - 840s 31ms/step - loss: 0.0020 - val_loss: 0.0018\n",
            "Epoch 3/3\n",
            " 8863/27022 [========>.....................] - ETA: 7:41 - loss: 0.0019"
          ]
        }
      ],
      "source": [
        "#για να βρούμε το καλύτερο learning rate\n",
        "acc_for_lr=[]\n",
        "for lr in list(map(lambda x:10**x, range(-5,0))):\n",
        "    acc_for_lr.append(LSTM_train(trainX,y_train,X_test,y_test,lr,2))\n",
        "    print(acc_for_lr)"
      ]
    },
    {
      "cell_type": "code",
      "execution_count": null,
      "id": "d1b971ef",
      "metadata": {
        "id": "d1b971ef"
      },
      "outputs": [],
      "source": [
        "plt.plot((list(map(lambda x:10**x, range(-5,0)))), acc_for_lr,marker='.')\n",
        "plt.xscale('log')\n",
        "plt.ylabel('Accuracy', size=15)\n",
        "plt.xlabel('Learning Rate', size=15)\n",
        "plot.title('Accuracy vs Learning Rate')\n",
        "plt.show()"
      ]
    },
    {
      "cell_type": "code",
      "execution_count": null,
      "id": "25127fd6",
      "metadata": {
        "id": "25127fd6"
      },
      "outputs": [],
      "source": [
        "def LSTM_train_hidden_layers(trainX,y_train,X_test,y_test,hl,W):\n",
        "    #πάμε να φτιάξουμε την δομή του lSTM\n",
        "    model = Sequential()\n",
        "    if(hl==1):\n",
        "        model.add(LSTM(64, input_shape=(trainX.shape[1], trainX.shape[2]), return_sequences=False))\n",
        "    if(hl>1):\n",
        "        model.add(LSTM(64, input_shape=(trainX.shape[1], trainX.shape[2]), return_sequences=True))\n",
        "        for i in range(hl-2):\n",
        "            model.add(LSTM(32, return_sequences=True))\n",
        "        model.add(LSTM(32, return_sequences=False))\n",
        "    model.add(Dropout(0.2)) #για να εμποδίσει το overfitting.\n",
        "    model.add(Dense(1, activation='sigmoid')) #sigmoid is important for classication\n",
        "\n",
        "    opt = optimizers.Adam(learning_rate=0.001)\n",
        "    model.compile(optimizer=opt, loss='mse')\n",
        "    model.summary()\n",
        "    #train\n",
        "    history = model.fit(trainX, y_train, epochs=3, batch_size=16, validation_split=0.1, verbose=1)\n",
        "    #predict\n",
        "    testX=X_test.reshape(X_test.shape[0],W,3)\n",
        "    prediction = model.predict(testX)\n",
        "    prediction=np.round(prediction)\n",
        "    for i in range(len(prediction)):\n",
        "        prediction[i]=int(prediction[i])\n",
        "    return accuracy_score(y_test,prediction)"
      ]
    },
    {
      "cell_type": "code",
      "execution_count": null,
      "id": "16afd6f4",
      "metadata": {
        "id": "16afd6f4",
        "outputId": "f521992a-9e24-4ee8-8664-8c74940aa3e7"
      },
      "outputs": [
        {
          "name": "stdout",
          "output_type": "stream",
          "text": [
            "Model: \"sequential_15\"\n",
            "_________________________________________________________________\n",
            " Layer (type)                Output Shape              Param #   \n",
            "=================================================================\n",
            " lstm_29 (LSTM)              (None, 64)                17408     \n",
            "                                                                 \n",
            " dropout_15 (Dropout)        (None, 64)                0         \n",
            "                                                                 \n",
            " dense_15 (Dense)            (None, 1)                 65        \n",
            "                                                                 \n",
            "=================================================================\n",
            "Total params: 17,473\n",
            "Trainable params: 17,473\n",
            "Non-trainable params: 0\n",
            "_________________________________________________________________\n",
            "Epoch 1/3\n",
            "8797/8797 [==============================] - 96s 10ms/step - loss: 0.0045 - val_loss: 0.0013\n",
            "Epoch 2/3\n",
            "8797/8797 [==============================] - 94s 11ms/step - loss: 0.0015 - val_loss: 0.0013\n",
            "Epoch 3/3\n",
            "8797/8797 [==============================] - 96s 11ms/step - loss: 0.0014 - val_loss: 0.0013\n",
            "379/379 [==============================] - 4s 7ms/step\n",
            "[0.9983471074380166]\n",
            "Model: \"sequential_16\"\n",
            "_________________________________________________________________\n",
            " Layer (type)                Output Shape              Param #   \n",
            "=================================================================\n",
            " lstm_30 (LSTM)              (None, 3, 64)             17408     \n",
            "                                                                 \n",
            " lstm_31 (LSTM)              (None, 32)                12416     \n",
            "                                                                 \n",
            " dropout_16 (Dropout)        (None, 32)                0         \n",
            "                                                                 \n",
            " dense_16 (Dense)            (None, 1)                 33        \n",
            "                                                                 \n",
            "=================================================================\n",
            "Total params: 29,857\n",
            "Trainable params: 29,857\n",
            "Non-trainable params: 0\n",
            "_________________________________________________________________\n",
            "Epoch 1/3\n",
            "8797/8797 [==============================] - 164s 17ms/step - loss: 0.0037 - val_loss: 0.0013\n",
            "Epoch 2/3\n",
            "8797/8797 [==============================] - 181s 21ms/step - loss: 0.0014 - val_loss: 0.0012\n",
            "Epoch 3/3\n",
            "8797/8797 [==============================] - 165s 19ms/step - loss: 0.0013 - val_loss: 0.0012\n",
            "379/379 [==============================] - 5s 8ms/step\n",
            "[0.9983471074380166, 0.9983471074380166]\n",
            "Model: \"sequential_17\"\n",
            "_________________________________________________________________\n",
            " Layer (type)                Output Shape              Param #   \n",
            "=================================================================\n",
            " lstm_32 (LSTM)              (None, 3, 64)             17408     \n",
            "                                                                 \n",
            " lstm_33 (LSTM)              (None, 3, 32)             12416     \n",
            "                                                                 \n",
            " lstm_34 (LSTM)              (None, 32)                8320      \n",
            "                                                                 \n",
            " dropout_17 (Dropout)        (None, 32)                0         \n",
            "                                                                 \n",
            " dense_17 (Dense)            (None, 1)                 33        \n",
            "                                                                 \n",
            "=================================================================\n",
            "Total params: 38,177\n",
            "Trainable params: 38,177\n",
            "Non-trainable params: 0\n",
            "_________________________________________________________________\n",
            "Epoch 1/3\n",
            "8797/8797 [==============================] - 215s 23ms/step - loss: 0.0039 - val_loss: 0.0012\n",
            "Epoch 2/3\n",
            "8797/8797 [==============================] - 13261s 2s/step - loss: 0.0016 - val_loss: 0.0012\n",
            "Epoch 3/3\n",
            "8797/8797 [==============================] - 198s 23ms/step - loss: 0.0013 - val_loss: 0.0012\n",
            "379/379 [==============================] - 27s 13ms/step\n",
            "[0.9983471074380166, 0.9983471074380166, 0.9983471074380166]\n",
            "Model: \"sequential_18\"\n",
            "_________________________________________________________________\n",
            " Layer (type)                Output Shape              Param #   \n",
            "=================================================================\n",
            " lstm_35 (LSTM)              (None, 3, 64)             17408     \n",
            "                                                                 \n",
            " lstm_36 (LSTM)              (None, 3, 32)             12416     \n",
            "                                                                 \n",
            " lstm_37 (LSTM)              (None, 3, 32)             8320      \n",
            "                                                                 \n",
            " lstm_38 (LSTM)              (None, 32)                8320      \n",
            "                                                                 \n",
            " dropout_18 (Dropout)        (None, 32)                0         \n",
            "                                                                 \n",
            " dense_18 (Dense)            (None, 1)                 33        \n",
            "                                                                 \n",
            "=================================================================\n",
            "Total params: 46,497\n",
            "Trainable params: 46,497\n",
            "Non-trainable params: 0\n",
            "_________________________________________________________________\n",
            "Epoch 1/3\n",
            "8797/8797 [==============================] - 282s 30ms/step - loss: 0.0047 - val_loss: 0.0012\n",
            "Epoch 2/3\n",
            "8797/8797 [==============================] - 189s 21ms/step - loss: 0.0015 - val_loss: 0.0015\n",
            "Epoch 3/3\n",
            "8797/8797 [==============================] - 170s 19ms/step - loss: 0.0015 - val_loss: 0.0012\n",
            "379/379 [==============================] - 9s 9ms/step\n",
            "[0.9983471074380166, 0.9983471074380166, 0.9983471074380166, 0.9983471074380166]\n",
            "Model: \"sequential_19\"\n",
            "_________________________________________________________________\n",
            " Layer (type)                Output Shape              Param #   \n",
            "=================================================================\n",
            " lstm_39 (LSTM)              (None, 3, 64)             17408     \n",
            "                                                                 \n",
            " lstm_40 (LSTM)              (None, 3, 32)             12416     \n",
            "                                                                 \n",
            " lstm_41 (LSTM)              (None, 3, 32)             8320      \n",
            "                                                                 \n",
            " lstm_42 (LSTM)              (None, 3, 32)             8320      \n",
            "                                                                 \n",
            " lstm_43 (LSTM)              (None, 32)                8320      \n",
            "                                                                 \n",
            " dropout_19 (Dropout)        (None, 32)                0         \n",
            "                                                                 \n",
            " dense_19 (Dense)            (None, 1)                 33        \n",
            "                                                                 \n",
            "=================================================================\n",
            "Total params: 54,817\n",
            "Trainable params: 54,817\n",
            "Non-trainable params: 0\n",
            "_________________________________________________________________\n",
            "Epoch 1/3\n",
            "8797/8797 [==============================] - 252s 24ms/step - loss: 0.0044 - val_loss: 0.0012\n",
            "Epoch 2/3\n",
            "8797/8797 [==============================] - 209s 24ms/step - loss: 0.0015 - val_loss: 0.0012\n",
            "Epoch 3/3\n",
            "8797/8797 [==============================] - 208s 24ms/step - loss: 0.0013 - val_loss: 0.0012\n",
            "379/379 [==============================] - 9s 9ms/step\n",
            "[0.9983471074380166, 0.9983471074380166, 0.9983471074380166, 0.9983471074380166, 0.9983471074380166]\n"
          ]
        }
      ],
      "source": [
        "#για να βρούμε τον καλύτερο αριθμό hidden layer\n",
        "acc_for_hl=[]\n",
        "for hl in range(1,6):\n",
        "    acc_for_hl.append(LSTM_train_hidden_layers(trainX,y_train,X_test,y_test,hl,W))\n",
        "    print(acc_for_hl)"
      ]
    },
    {
      "cell_type": "code",
      "execution_count": null,
      "id": "cf255cc0",
      "metadata": {
        "id": "cf255cc0"
      },
      "outputs": [],
      "source": [
        "plt.plot([1,2,3,4,5], acc_for_hl,marker='.')\n",
        "plt.ylabel('Accuracy', size=15)\n",
        "plt.xlabel('Number of Hidden Layers', size=15)\n",
        "plt.show()"
      ]
    },
    {
      "cell_type": "markdown",
      "id": "59d2a677",
      "metadata": {
        "id": "59d2a677"
      },
      "source": [
        "### MCS dataset , W=6"
      ]
    },
    {
      "cell_type": "code",
      "execution_count": null,
      "id": "bdf544f4",
      "metadata": {
        "id": "bdf544f4",
        "outputId": "304090f8-3a41-48dd-bfb9-bf443734beb5"
      },
      "outputs": [
        {
          "name": "stdout",
          "output_type": "stream",
          "text": [
            "[[0 0 0 ... 0 0 0]\n",
            " [0 0 0 ... 0 0 0]\n",
            " [0 0 0 ... 0 0 0]\n",
            " ...\n",
            " [0 0 0 ... 0 0 0]\n",
            " [0 0 0 ... 0 0 0]\n",
            " [0 0 0 ... 0 0 0]]\n",
            "y:  [0 0 0 ... 0 0 0]\n"
          ]
        }
      ],
      "source": [
        "# Importing the dataset\n",
        "dataset = pd.read_csv('MCS_dataset_W=6_C=2.txt')\n",
        "X = dataset.iloc[:, :-1].values\n",
        "y = dataset.iloc[:, -1].values\n",
        "print(X)\n",
        "print('y: ',y)"
      ]
    },
    {
      "cell_type": "code",
      "execution_count": null,
      "id": "4fa9889a",
      "metadata": {
        "id": "4fa9889a",
        "outputId": "3a6fd300-bf6c-41dd-d1bb-5c0093a3ce62"
      },
      "outputs": [
        {
          "name": "stdout",
          "output_type": "stream",
          "text": [
            "1\n"
          ]
        }
      ],
      "source": [
        "print(y[200])"
      ]
    },
    {
      "cell_type": "code",
      "execution_count": null,
      "id": "d4ba12c0",
      "metadata": {
        "id": "d4ba12c0"
      },
      "outputs": [],
      "source": [
        "# training-test split\n",
        "X_train, X_test, y_train, y_test = train_test_split(X, y, test_size=12100, random_state=0)"
      ]
    },
    {
      "cell_type": "code",
      "execution_count": null,
      "id": "b2a32076",
      "metadata": {
        "id": "b2a32076",
        "outputId": "1e46b4b0-c056-4b76-b8d5-8895f7d1ef91"
      },
      "outputs": [
        {
          "name": "stdout",
          "output_type": "stream",
          "text": [
            "480380\n",
            "480380\n",
            "12100\n",
            "12100\n",
            "2065\n"
          ]
        }
      ],
      "source": [
        "print(len(X_train))\n",
        "print(len(y_train))\n",
        "print(len(X_test))\n",
        "print(len(y_test))\n",
        "count=0\n",
        "for i in y_test:\n",
        "    #print(i)\n",
        "    if(i==1):\n",
        "        count=count+1\n",
        "print(count)"
      ]
    },
    {
      "cell_type": "code",
      "execution_count": null,
      "id": "51787626",
      "metadata": {
        "id": "51787626",
        "outputId": "40d097cf-ba18-42a7-b8ee-8da4bd2d2224"
      },
      "outputs": [
        {
          "name": "stdout",
          "output_type": "stream",
          "text": [
            "[[0.   0.   0.   ... 0.   0.   0.  ]\n",
            " [1.   1.   1.   ... 0.2  0.2  0.2 ]\n",
            " [0.   0.   0.   ... 0.   0.   0.  ]\n",
            " ...\n",
            " [0.   0.   0.   ... 0.   0.   0.  ]\n",
            " [0.   0.   0.   ... 0.   0.   0.  ]\n",
            " [0.97 1.   1.   ... 0.8  0.8  0.8 ]]\n"
          ]
        }
      ],
      "source": [
        "#MinMaxScaling\n",
        "#only for input, because we have classification\n",
        "scaler_data=MinMaxScaler()\n",
        "\n",
        "X_train=scaler_data.fit_transform(X_train)\n",
        "X_test=scaler_data.transform(X_test)\n",
        "print(X_test)"
      ]
    },
    {
      "cell_type": "code",
      "execution_count": null,
      "id": "614e073c",
      "metadata": {
        "id": "614e073c",
        "outputId": "7745ee57-3e7e-40fb-faf0-688cddd5d4f0"
      },
      "outputs": [
        {
          "name": "stdout",
          "output_type": "stream",
          "text": [
            "(480380, 6, 3)\n"
          ]
        }
      ],
      "source": [
        "trainX=X_train.reshape(X_train.shape[0],6,3)\n",
        "print(trainX.shape)"
      ]
    },
    {
      "cell_type": "code",
      "execution_count": null,
      "id": "f818e844",
      "metadata": {
        "id": "f818e844",
        "outputId": "9b1ceab5-3cf7-4332-83e8-19132d8454d4"
      },
      "outputs": [
        {
          "name": "stdout",
          "output_type": "stream",
          "text": [
            "Model: \"sequential_12\"\n",
            "_________________________________________________________________\n",
            " Layer (type)                Output Shape              Param #   \n",
            "=================================================================\n",
            " lstm_34 (LSTM)              (None, 6, 64)             17408     \n",
            "                                                                 \n",
            " lstm_35 (LSTM)              (None, 32)                12416     \n",
            "                                                                 \n",
            " dropout_12 (Dropout)        (None, 32)                0         \n",
            "                                                                 \n",
            " dense_12 (Dense)            (None, 1)                 33        \n",
            "                                                                 \n",
            "=================================================================\n",
            "Total params: 29,857\n",
            "Trainable params: 29,857\n",
            "Non-trainable params: 0\n",
            "_________________________________________________________________\n"
          ]
        }
      ],
      "source": [
        "#πάμε να φτιάξουμε την δομή του lSTM\n",
        "model = Sequential()\n",
        "model.add(LSTM(64, input_shape=(trainX.shape[1], trainX.shape[2]), return_sequences=True))\n",
        "model.add(LSTM(32, return_sequences=False))\n",
        "model.add(Dropout(0.2)) #για να εμποδίσει το overfitting.\n",
        "model.add(Dense(1, activation='sigmoid')) #sigmoid is important for classication\n",
        "\n",
        "#opt = optimizers.Adam(learning_rate=lr)\n",
        "model.compile(optimizer='adam', loss='mse')\n",
        "model.summary()"
      ]
    },
    {
      "cell_type": "code",
      "execution_count": null,
      "id": "5b124df6",
      "metadata": {
        "id": "5b124df6",
        "outputId": "366ffeee-4a25-4469-eb58-611b72eefa6c"
      },
      "outputs": [
        {
          "name": "stdout",
          "output_type": "stream",
          "text": [
            "Epoch 1/3\n",
            "27022/27022 [==============================] - 927s 33ms/step - loss: 0.0011 - val_loss: 4.7826e-04\n",
            "Epoch 2/3\n",
            "27022/27022 [==============================] - 627s 23ms/step - loss: 5.3313e-04 - val_loss: 4.5423e-04\n",
            "Epoch 3/3\n",
            "27022/27022 [==============================] - 620s 23ms/step - loss: 4.8680e-04 - val_loss: 3.6625e-04\n"
          ]
        },
        {
          "data": {
            "text/plain": [
              "<matplotlib.legend.Legend at 0x2a593f73850>"
            ]
          },
          "execution_count": 45,
          "metadata": {},
          "output_type": "execute_result"
        },
        {
          "data": {
            "image/png": "[encoded data removed]",
            "text/plain": [
              "<Figure size 432x288 with 1 Axes>"
            ]
          },
          "metadata": {
            "needs_background": "light"
          },
          "output_type": "display_data"
        }
      ],
      "source": [
        "history = model.fit(trainX, y_train, epochs=3, batch_size=16, validation_split=0.1, verbose=1)\n",
        "\n",
        "plt.plot(history.history['loss'], label='Training loss')\n",
        "plt.plot(history.history['val_loss'], label='Validation loss')\n",
        "plt.legend()"
      ]
    },
    {
      "cell_type": "code",
      "execution_count": null,
      "id": "4c82e19e",
      "metadata": {
        "id": "4c82e19e",
        "outputId": "4c0bfe26-df49-4ec0-dede-705e459f1644"
      },
      "outputs": [
        {
          "name": "stdout",
          "output_type": "stream",
          "text": [
            "379/379 [==============================] - 6s 8ms/step\n"
          ]
        }
      ],
      "source": [
        "#predict\n",
        "testX=X_test.reshape(X_test.shape[0],6,3)\n",
        "prediction = model.predict(testX)"
      ]
    },
    {
      "cell_type": "code",
      "execution_count": null,
      "id": "3acd7dba",
      "metadata": {
        "id": "3acd7dba",
        "outputId": "95b220b8-a430-480d-d24b-1a13d8c08b59"
      },
      "outputs": [
        {
          "name": "stdout",
          "output_type": "stream",
          "text": [
            "[0 1 0 ... 0 0 1]\n",
            "[[0.]\n",
            " [1.]\n",
            " [0.]\n",
            " ...\n",
            " [0.]\n",
            " [0.]\n",
            " [1.]]\n"
          ]
        }
      ],
      "source": [
        "print(y_test)\n",
        "prediction=np.round(prediction)\n",
        "for i in range(len(prediction)):\n",
        "    prediction[i]=int(prediction[i])\n",
        "print(prediction)"
      ]
    },
    {
      "cell_type": "code",
      "execution_count": null,
      "id": "af590167",
      "metadata": {
        "id": "af590167",
        "outputId": "e6aef951-07c5-4a05-d67c-542403975777"
      },
      "outputs": [
        {
          "name": "stdout",
          "output_type": "stream",
          "text": [
            "0.9993388429752066\n"
          ]
        }
      ],
      "source": [
        "#Accuracy\n",
        "print(accuracy_score(y_test,prediction))\n",
        "dbfile = open('Test_set_for_W=6_C=2', 'wb')\n",
        "pickle.dump(y_test,dbfile )\n",
        "dbfile.close()\n",
        "dbfile = open('Predictions_for_W=6_C=2', 'wb')\n",
        "pickle.dump(prediction,dbfile )\n",
        "dbfile.close()"
      ]
    },
    {
      "cell_type": "code",
      "execution_count": null,
      "id": "e19305b0",
      "metadata": {
        "id": "e19305b0",
        "outputId": "cd555bda-03b4-4064-8c9c-de616ac191f3"
      },
      "outputs": [
        {
          "data": {
            "text/plain": [
              "Text(0.5, 1.0, 'Confusion Matrix')"
            ]
          },
          "execution_count": 49,
          "metadata": {},
          "output_type": "execute_result"
        },
        {
          "data": {
            "image/png": "[encoded data removed]",
            "text/plain": [
              "<Figure size 432x288 with 2 Axes>"
            ]
          },
          "metadata": {
            "needs_background": "light"
          },
          "output_type": "display_data"
        }
      ],
      "source": [
        "#confusion matrix\n",
        "#different numbers becsuse of different train test split\n",
        "cf_matrix = confusion_matrix(y_test,prediction)\n",
        "#print(cf_matrix)\n",
        "sns.heatmap(cf_matrix/np.sum(cf_matrix), annot=True, fmt='.2%', cmap='summer')\n",
        "plt.title('Confusion Matrix')"
      ]
    },
    {
      "cell_type": "code",
      "execution_count": null,
      "id": "7f377040",
      "metadata": {
        "id": "7f377040",
        "outputId": "21d14c9a-e3a2-4b81-c71d-ff04ad67ab6b"
      },
      "outputs": [
        {
          "data": {
            "image/png": "[encoded data removed]",
            "text/plain": [
              "<Figure size 432x288 with 1 Axes>"
            ]
          },
          "metadata": {
            "needs_background": "light"
          },
          "output_type": "display_data"
        }
      ],
      "source": [
        "#ROC Curve\n",
        "fpr, tpr, _ = roc_curve(y_test,  prediction)\n",
        "\n",
        "#create ROC curve\n",
        "plt.plot(fpr,tpr)\n",
        "plt.ylabel('True Positive Rate')\n",
        "plt.xlabel('False Positive Rate')\n",
        "plt.title('ROC Curve')\n",
        "plt.show()"
      ]
    },
    {
      "cell_type": "code",
      "execution_count": null,
      "id": "beee655f",
      "metadata": {
        "id": "beee655f",
        "outputId": "3f8d356a-00ca-4a1f-91b2-bad2990db560"
      },
      "outputs": [
        {
          "name": "stdout",
          "output_type": "stream",
          "text": [
            "Model: \"sequential_3\"\n",
            "_________________________________________________________________\n",
            " Layer (type)                Output Shape              Param #   \n",
            "=================================================================\n",
            " lstm_6 (LSTM)               (None, 6, 64)             17408     \n",
            "                                                                 \n",
            " lstm_7 (LSTM)               (None, 32)                12416     \n",
            "                                                                 \n",
            " dropout_3 (Dropout)         (None, 32)                0         \n",
            "                                                                 \n",
            " dense_3 (Dense)             (None, 1)                 33        \n",
            "                                                                 \n",
            "=================================================================\n",
            "Total params: 29,857\n",
            "Trainable params: 29,857\n",
            "Non-trainable params: 0\n",
            "_________________________________________________________________\n",
            "Epoch 1/3\n",
            "27022/27022 [==============================] - 562s 20ms/step - loss: 0.0195 - val_loss: 0.0019\n",
            "Epoch 2/3\n",
            "27022/27022 [==============================] - 423s 16ms/step - loss: 0.0019 - val_loss: 0.0018\n",
            "Epoch 3/3\n",
            "27022/27022 [==============================] - 410s 15ms/step - loss: 0.0019 - val_loss: 0.0017\n",
            "379/379 [==============================] - 4s 6ms/step\n",
            "[0.9966115702479339]\n",
            "Model: \"sequential_4\"\n",
            "_________________________________________________________________\n",
            " Layer (type)                Output Shape              Param #   \n",
            "=================================================================\n",
            " lstm_8 (LSTM)               (None, 6, 64)             17408     \n",
            "                                                                 \n",
            " lstm_9 (LSTM)               (None, 32)                12416     \n",
            "                                                                 \n",
            " dropout_4 (Dropout)         (None, 32)                0         \n",
            "                                                                 \n",
            " dense_4 (Dense)             (None, 1)                 33        \n",
            "                                                                 \n",
            "=================================================================\n",
            "Total params: 29,857\n",
            "Trainable params: 29,857\n",
            "Non-trainable params: 0\n",
            "_________________________________________________________________\n",
            "Epoch 1/3\n",
            "27022/27022 [==============================] - 422s 15ms/step - loss: 0.0035 - val_loss: 0.0016\n",
            "Epoch 2/3\n",
            "27022/27022 [==============================] - 411s 15ms/step - loss: 0.0010 - val_loss: 5.9152e-04\n",
            "Epoch 3/3\n",
            "27022/27022 [==============================] - 414s 15ms/step - loss: 6.1724e-04 - val_loss: 5.0396e-04\n",
            "379/379 [==============================] - 5s 7ms/step\n",
            "[0.9966115702479339, 0.9993388429752066]\n",
            "Model: \"sequential_5\"\n",
            "_________________________________________________________________\n",
            " Layer (type)                Output Shape              Param #   \n",
            "=================================================================\n",
            " lstm_10 (LSTM)              (None, 6, 64)             17408     \n",
            "                                                                 \n",
            " lstm_11 (LSTM)              (None, 32)                12416     \n",
            "                                                                 \n",
            " dropout_5 (Dropout)         (None, 32)                0         \n",
            "                                                                 \n",
            " dense_5 (Dense)             (None, 1)                 33        \n",
            "                                                                 \n",
            "=================================================================\n",
            "Total params: 29,857\n",
            "Trainable params: 29,857\n",
            "Non-trainable params: 0\n",
            "_________________________________________________________________\n",
            "Epoch 1/3\n",
            "27022/27022 [==============================] - 433s 16ms/step - loss: 0.0011 - val_loss: 4.8102e-04\n",
            "Epoch 2/3\n",
            "27022/27022 [==============================] - 417s 15ms/step - loss: 5.1857e-04 - val_loss: 4.2412e-04\n",
            "Epoch 3/3\n",
            "27022/27022 [==============================] - 415s 15ms/step - loss: 4.9221e-04 - val_loss: 3.9116e-04\n",
            "379/379 [==============================] - 5s 7ms/step\n",
            "[0.9966115702479339, 0.9993388429752066, 0.9993388429752066]\n",
            "Model: \"sequential_6\"\n",
            "_________________________________________________________________\n",
            " Layer (type)                Output Shape              Param #   \n",
            "=================================================================\n",
            " lstm_12 (LSTM)              (None, 6, 64)             17408     \n",
            "                                                                 \n",
            " lstm_13 (LSTM)              (None, 32)                12416     \n",
            "                                                                 \n",
            " dropout_6 (Dropout)         (None, 32)                0         \n",
            "                                                                 \n",
            " dense_6 (Dense)             (None, 1)                 33        \n",
            "                                                                 \n",
            "=================================================================\n",
            "Total params: 29,857\n",
            "Trainable params: 29,857\n",
            "Non-trainable params: 0\n",
            "_________________________________________________________________\n",
            "Epoch 1/3\n",
            "27022/27022 [==============================] - 531s 19ms/step - loss: 0.0036 - val_loss: 0.0027\n",
            "Epoch 2/3\n",
            "27022/27022 [==============================] - 513s 19ms/step - loss: 0.0025 - val_loss: 0.0017\n",
            "Epoch 3/3\n",
            "27022/27022 [==============================] - 431s 16ms/step - loss: 0.0017 - val_loss: 0.0022\n",
            "379/379 [==============================] - 5s 7ms/step\n",
            "[0.9966115702479339, 0.9993388429752066, 0.9993388429752066, 0.9974380165289256]\n",
            "Model: \"sequential_7\"\n",
            "_________________________________________________________________\n",
            " Layer (type)                Output Shape              Param #   \n",
            "=================================================================\n",
            " lstm_14 (LSTM)              (None, 6, 64)             17408     \n",
            "                                                                 \n",
            " lstm_15 (LSTM)              (None, 32)                12416     \n",
            "                                                                 \n",
            " dropout_7 (Dropout)         (None, 32)                0         \n",
            "                                                                 \n",
            " dense_7 (Dense)             (None, 1)                 33        \n",
            "                                                                 \n",
            "=================================================================\n",
            "Total params: 29,857\n",
            "Trainable params: 29,857\n",
            "Non-trainable params: 0\n",
            "_________________________________________________________________\n",
            "Epoch 1/3\n",
            "27022/27022 [==============================] - 415s 15ms/step - loss: 0.0072 - val_loss: 0.0064\n",
            "Epoch 2/3\n",
            "27022/27022 [==============================] - 409s 15ms/step - loss: 0.0069 - val_loss: 0.0064\n",
            "Epoch 3/3\n",
            "27022/27022 [==============================] - 401s 15ms/step - loss: 0.0069 - val_loss: 0.0064\n",
            "379/379 [==============================] - 5s 7ms/step\n",
            "[0.9966115702479339, 0.9993388429752066, 0.9993388429752066, 0.9974380165289256, 0.9936363636363637]\n"
          ]
        }
      ],
      "source": [
        "#για να βρούμε το καλύτερο learning rate\n",
        "acc_for_lr=[]\n",
        "for lr in list(map(lambda x:10**x, range(-5,0))):\n",
        "    acc_for_lr.append(LSTM_train(trainX,y_train,X_test,y_test,lr,6))\n",
        "    print(acc_for_lr)"
      ]
    },
    {
      "cell_type": "code",
      "execution_count": null,
      "id": "d2499ff9",
      "metadata": {
        "id": "d2499ff9",
        "outputId": "8603cb1b-f876-48ce-86b9-b79c6e119a3c"
      },
      "outputs": [
        {
          "data": {
            "image/png": "[encoded data removed]",
            "text/plain": [
              "<Figure size 432x288 with 1 Axes>"
            ]
          },
          "metadata": {
            "needs_background": "light"
          },
          "output_type": "display_data"
        }
      ],
      "source": [
        "plt.plot((list(map(lambda x:10**x, range(-5,0)))), acc_for_lr,marker='.')\n",
        "plt.xscale('log')\n",
        "plt.ylabel('Accuracy', size=15)\n",
        "plt.xlabel('Learning Rate', size=15)\n",
        "plt.show()"
      ]
    },
    {
      "cell_type": "code",
      "execution_count": null,
      "id": "68524e30",
      "metadata": {
        "id": "68524e30",
        "outputId": "d20f2f99-6b64-4930-f8f9-5f138d4121db"
      },
      "outputs": [
        {
          "name": "stdout",
          "output_type": "stream",
          "text": [
            "Model: \"sequential_8\"\n",
            "_________________________________________________________________\n",
            " Layer (type)                Output Shape              Param #   \n",
            "=================================================================\n",
            " lstm_16 (LSTM)              (None, 64)                17408     \n",
            "                                                                 \n",
            " dropout_8 (Dropout)         (None, 64)                0         \n",
            "                                                                 \n",
            " dense_8 (Dense)             (None, 1)                 65        \n",
            "                                                                 \n",
            "=================================================================\n",
            "Total params: 17,473\n",
            "Trainable params: 17,473\n",
            "Non-trainable params: 0\n",
            "_________________________________________________________________\n",
            "Epoch 1/3\n",
            "27022/27022 [==============================] - 261s 9ms/step - loss: 0.0013 - val_loss: 4.8448e-04\n",
            "Epoch 2/3\n",
            "27022/27022 [==============================] - 260s 10ms/step - loss: 5.2478e-04 - val_loss: 4.4727e-04\n",
            "Epoch 3/3\n",
            "27022/27022 [==============================] - 256s 9ms/step - loss: 4.8997e-04 - val_loss: 4.1273e-04\n",
            "379/379 [==============================] - 3s 5ms/step\n",
            "[0.9993388429752066]\n",
            "Model: \"sequential_9\"\n",
            "_________________________________________________________________\n",
            " Layer (type)                Output Shape              Param #   \n",
            "=================================================================\n",
            " lstm_17 (LSTM)              (None, 6, 64)             17408     \n",
            "                                                                 \n",
            " lstm_18 (LSTM)              (None, 32)                12416     \n",
            "                                                                 \n",
            " dropout_9 (Dropout)         (None, 32)                0         \n",
            "                                                                 \n",
            " dense_9 (Dense)             (None, 1)                 33        \n",
            "                                                                 \n",
            "=================================================================\n",
            "Total params: 29,857\n",
            "Trainable params: 29,857\n",
            "Non-trainable params: 0\n",
            "_________________________________________________________________\n",
            "Epoch 1/3\n",
            "27022/27022 [==============================] - 442s 16ms/step - loss: 0.0012 - val_loss: 4.7916e-04\n",
            "Epoch 2/3\n",
            "27022/27022 [==============================] - 427s 16ms/step - loss: 5.3180e-04 - val_loss: 4.7879e-04\n",
            "Epoch 3/3\n",
            "27022/27022 [==============================] - 424s 16ms/step - loss: 5.2092e-04 - val_loss: 4.3740e-04\n",
            "379/379 [==============================] - 5s 7ms/step\n",
            "[0.9993388429752066, 0.9993388429752066]\n",
            "Model: \"sequential_10\"\n",
            "_________________________________________________________________\n",
            " Layer (type)                Output Shape              Param #   \n",
            "=================================================================\n",
            " lstm_19 (LSTM)              (None, 6, 64)             17408     \n",
            "                                                                 \n",
            " lstm_20 (LSTM)              (None, 6, 32)             12416     \n",
            "                                                                 \n",
            " lstm_21 (LSTM)              (None, 32)                8320      \n",
            "                                                                 \n",
            " dropout_10 (Dropout)        (None, 32)                0         \n",
            "                                                                 \n",
            " dense_10 (Dense)            (None, 1)                 33        \n",
            "                                                                 \n",
            "=================================================================\n",
            "Total params: 38,177\n",
            "Trainable params: 38,177\n",
            "Non-trainable params: 0\n",
            "_________________________________________________________________\n",
            "Epoch 1/3\n",
            "27022/27022 [==============================] - 592s 21ms/step - loss: 0.0013 - val_loss: 4.6685e-04\n",
            "Epoch 2/3\n",
            "27022/27022 [==============================] - 587s 22ms/step - loss: 5.3619e-04 - val_loss: 4.0265e-04\n",
            "Epoch 3/3\n",
            "27022/27022 [==============================] - 593s 22ms/step - loss: 5.1045e-04 - val_loss: 4.3245e-04\n",
            "379/379 [==============================] - 6s 9ms/step\n",
            "[0.9993388429752066, 0.9993388429752066, 0.9993388429752066]\n",
            "Model: \"sequential_11\"\n",
            "_________________________________________________________________\n",
            " Layer (type)                Output Shape              Param #   \n",
            "=================================================================\n",
            " lstm_22 (LSTM)              (None, 6, 64)             17408     \n",
            "                                                                 \n",
            " lstm_23 (LSTM)              (None, 6, 32)             12416     \n",
            "                                                                 \n",
            " lstm_24 (LSTM)              (None, 6, 32)             8320      \n",
            "                                                                 \n",
            " lstm_25 (LSTM)              (None, 32)                8320      \n",
            "                                                                 \n",
            " dropout_11 (Dropout)        (None, 32)                0         \n",
            "                                                                 \n",
            " dense_11 (Dense)            (None, 1)                 33        \n",
            "                                                                 \n",
            "=================================================================\n",
            "Total params: 46,497\n",
            "Trainable params: 46,497\n",
            "Non-trainable params: 0\n",
            "_________________________________________________________________\n",
            "Epoch 1/3\n",
            "27022/27022 [==============================] - 789s 29ms/step - loss: 0.0013 - val_loss: 0.0034\n",
            "Epoch 2/3\n",
            "27022/27022 [==============================] - 736s 27ms/step - loss: 7.8847e-04 - val_loss: 4.4570e-04\n",
            "Epoch 3/3\n",
            "27022/27022 [==============================] - 748s 28ms/step - loss: 5.3909e-04 - val_loss: 4.6158e-04\n",
            "379/379 [==============================] - 10s 12ms/step\n",
            "[0.9993388429752066, 0.9993388429752066, 0.9993388429752066, 0.9993388429752066]\n",
            "Model: \"sequential_12\"\n",
            "_________________________________________________________________\n",
            " Layer (type)                Output Shape              Param #   \n",
            "=================================================================\n",
            " lstm_26 (LSTM)              (None, 6, 64)             17408     \n",
            "                                                                 \n",
            " lstm_27 (LSTM)              (None, 6, 32)             12416     \n",
            "                                                                 \n",
            " lstm_28 (LSTM)              (None, 6, 32)             8320      \n",
            "                                                                 \n",
            " lstm_29 (LSTM)              (None, 6, 32)             8320      \n",
            "                                                                 \n",
            " lstm_30 (LSTM)              (None, 32)                8320      \n",
            "                                                                 \n",
            " dropout_12 (Dropout)        (None, 32)                0         \n",
            "                                                                 \n",
            " dense_12 (Dense)            (None, 1)                 33        \n",
            "                                                                 \n",
            "=================================================================\n",
            "Total params: 54,817\n",
            "Trainable params: 54,817\n",
            "Non-trainable params: 0\n",
            "_________________________________________________________________\n",
            "Epoch 1/3\n",
            "27022/27022 [==============================] - 919s 33ms/step - loss: 0.0019 - val_loss: 8.9044e-04\n",
            "Epoch 2/3\n",
            "27022/27022 [==============================] - 866s 32ms/step - loss: 6.3061e-04 - val_loss: 4.5330e-04\n",
            "Epoch 3/3\n",
            "27022/27022 [==============================] - 869s 32ms/step - loss: 8.8454e-04 - val_loss: 0.0022\n",
            "379/379 [==============================] - 10s 12ms/step\n",
            "[0.9993388429752066, 0.9993388429752066, 0.9993388429752066, 0.9993388429752066, 0.9972727272727273]\n"
          ]
        }
      ],
      "source": [
        "#για να βρούμε τον καλύτερο αριθμό hidden layer\n",
        "acc_for_hl=[]\n",
        "for hl in range(1,6):\n",
        "    acc_for_hl.append(LSTM_train_hidden_layers(trainX,y_train,X_test,y_test,hl,6))\n",
        "    print(acc_for_hl)"
      ]
    },
    {
      "cell_type": "code",
      "execution_count": null,
      "id": "afc641f1",
      "metadata": {
        "id": "afc641f1",
        "outputId": "9621f5a1-2ba1-4dfc-df7e-9ee9dee44e9a"
      },
      "outputs": [
        {
          "data": {
            "image/png": "[encoded data removed]",
            "text/plain": [
              "<Figure size 432x288 with 1 Axes>"
            ]
          },
          "metadata": {
            "needs_background": "light"
          },
          "output_type": "display_data"
        }
      ],
      "source": [
        "plt.plot([1,2,3,4,5], acc_for_hl,marker='.')\n",
        "plt.ylabel('Accuracy', size=15)\n",
        "plt.xlabel('Number of Hidden Layers', size=15)\n",
        "plt.show()"
      ]
    },
    {
      "cell_type": "markdown",
      "id": "2c541886",
      "metadata": {
        "id": "2c541886"
      },
      "source": [
        "### MCS dataset, W=9"
      ]
    },
    {
      "cell_type": "code",
      "execution_count": null,
      "id": "7165ea15",
      "metadata": {
        "id": "7165ea15",
        "outputId": "1a000dbe-b736-4240-b644-fbb65f3dfb09"
      },
      "outputs": [
        {
          "name": "stdout",
          "output_type": "stream",
          "text": [
            "[[0 0 0 ... 0 0 0]\n",
            " [0 0 0 ... 0 0 0]\n",
            " [0 0 0 ... 0 0 0]\n",
            " ...\n",
            " [0 0 0 ... 0 0 0]\n",
            " [0 0 0 ... 0 0 0]\n",
            " [0 0 0 ... 0 0 0]]\n",
            "y:  [0 0 0 ... 0 0 0]\n"
          ]
        }
      ],
      "source": [
        "# Importing the dataset\n",
        "dataset = pd.read_csv('MCS_dataset_W=9_C=2.txt')\n",
        "X = dataset.iloc[:, :-1].values\n",
        "y = dataset.iloc[:, -1].values\n",
        "print(X)\n",
        "print('y: ',y)"
      ]
    },
    {
      "cell_type": "code",
      "execution_count": null,
      "id": "3f5219c3",
      "metadata": {
        "id": "3f5219c3",
        "outputId": "2de3eba0-3073-429a-d8e0-6983fe3926c4"
      },
      "outputs": [
        {
          "name": "stdout",
          "output_type": "stream",
          "text": [
            "479520\n"
          ]
        }
      ],
      "source": [
        "print(len(X[:]))"
      ]
    },
    {
      "cell_type": "code",
      "execution_count": null,
      "id": "0edd39c5",
      "metadata": {
        "id": "0edd39c5"
      },
      "outputs": [],
      "source": [
        "# training-test split\n",
        "X_train, X_test, y_train, y_test = train_test_split(X, y, test_size=12100, random_state=0)"
      ]
    },
    {
      "cell_type": "code",
      "execution_count": null,
      "id": "c9034638",
      "metadata": {
        "id": "c9034638",
        "outputId": "518723c3-68e4-4f40-8bd5-01d796932402"
      },
      "outputs": [
        {
          "name": "stdout",
          "output_type": "stream",
          "text": [
            "467420\n",
            "467420\n",
            "12100\n",
            "12100\n",
            "2239\n"
          ]
        }
      ],
      "source": [
        "print(len(X_train))\n",
        "print(len(y_train))\n",
        "print(len(X_test))\n",
        "print(len(y_test))\n",
        "count=0\n",
        "for i in y_test:\n",
        "    #print(i)\n",
        "    if(i==1):\n",
        "        count=count+1\n",
        "print(count)"
      ]
    },
    {
      "cell_type": "code",
      "execution_count": null,
      "id": "145e325d",
      "metadata": {
        "id": "145e325d",
        "outputId": "6cdc2684-a0a6-4f5c-9551-8596477fd593"
      },
      "outputs": [
        {
          "name": "stdout",
          "output_type": "stream",
          "text": [
            "[[0. 0. 0. ... 0. 0. 0.]\n",
            " [0. 0. 0. ... 0. 0. 0.]\n",
            " [1. 1. 1. ... 1. 1. 1.]\n",
            " ...\n",
            " [0. 0. 0. ... 0. 0. 0.]\n",
            " [0. 0. 0. ... 0. 0. 0.]\n",
            " [0. 0. 0. ... 0. 0. 0.]]\n"
          ]
        }
      ],
      "source": [
        "#MinMaxScaling\n",
        "#only for input, because we have classification\n",
        "scaler_data=MinMaxScaler()\n",
        "\n",
        "X_train=scaler_data.fit_transform(X_train)\n",
        "X_test=scaler_data.transform(X_test)\n",
        "print(X_test)"
      ]
    },
    {
      "cell_type": "code",
      "execution_count": null,
      "id": "bc3d404d",
      "metadata": {
        "id": "bc3d404d",
        "outputId": "3970f24d-adf8-4376-a5e0-bdd63755bafd"
      },
      "outputs": [
        {
          "name": "stdout",
          "output_type": "stream",
          "text": [
            "(467420, 9, 3)\n"
          ]
        }
      ],
      "source": [
        "trainX=X_train.reshape(X_train.shape[0],9,3)\n",
        "print(trainX.shape)"
      ]
    },
    {
      "cell_type": "code",
      "execution_count": null,
      "id": "f4be6bde",
      "metadata": {
        "id": "f4be6bde",
        "outputId": "ec5e1702-f43d-44d5-e7f7-e6f7ae9584ab"
      },
      "outputs": [
        {
          "name": "stdout",
          "output_type": "stream",
          "text": [
            "Model: \"sequential_13\"\n",
            "_________________________________________________________________\n",
            " Layer (type)                Output Shape              Param #   \n",
            "=================================================================\n",
            " lstm_31 (LSTM)              (None, 9, 64)             17408     \n",
            "                                                                 \n",
            " lstm_32 (LSTM)              (None, 32)                12416     \n",
            "                                                                 \n",
            " dropout_13 (Dropout)        (None, 32)                0         \n",
            "                                                                 \n",
            " dense_13 (Dense)            (None, 1)                 33        \n",
            "                                                                 \n",
            "=================================================================\n",
            "Total params: 29,857\n",
            "Trainable params: 29,857\n",
            "Non-trainable params: 0\n",
            "_________________________________________________________________\n"
          ]
        }
      ],
      "source": [
        "#πάμε να φτιάξουμε την δομή του lSTM\n",
        "model = Sequential()\n",
        "model.add(LSTM(64, input_shape=(trainX.shape[1], trainX.shape[2]), return_sequences=True))\n",
        "model.add(LSTM(32, return_sequences=False))\n",
        "model.add(Dropout(0.2)) #για να εμποδίσει το overfitting.\n",
        "model.add(Dense(1, activation='sigmoid')) #sigmoid is important for classication\n",
        "\n",
        "#opt = optimizers.Adam(learning_rate=lr)\n",
        "model.compile(optimizer='adam', loss='mse')\n",
        "model.summary()"
      ]
    },
    {
      "cell_type": "code",
      "execution_count": null,
      "id": "6cc77cee",
      "metadata": {
        "id": "6cc77cee",
        "outputId": "2375cf7e-e941-4782-812a-022e1cb02ac5"
      },
      "outputs": [
        {
          "name": "stdout",
          "output_type": "stream",
          "text": [
            "Epoch 1/3\n",
            "26293/26293 [==============================] - 866s 32ms/step - loss: 0.0011 - val_loss: 4.2810e-04\n",
            "Epoch 2/3\n",
            "26293/26293 [==============================] - 678s 26ms/step - loss: 5.3359e-04 - val_loss: 3.8126e-04\n",
            "Epoch 3/3\n",
            "26293/26293 [==============================] - 655s 25ms/step - loss: 6.2686e-04 - val_loss: 3.6055e-04\n"
          ]
        },
        {
          "data": {
            "text/plain": [
              "<matplotlib.legend.Legend at 0x1f09d8314c0>"
            ]
          },
          "execution_count": 59,
          "metadata": {},
          "output_type": "execute_result"
        },
        {
          "data": {
            "image/png": "[encoded data removed]",
            "text/plain": [
              "<Figure size 432x288 with 1 Axes>"
            ]
          },
          "metadata": {
            "needs_background": "light"
          },
          "output_type": "display_data"
        }
      ],
      "source": [
        "history = model.fit(trainX, y_train, epochs=3, batch_size=16, validation_split=0.1, verbose=1)\n",
        "\n",
        "plt.plot(history.history['loss'], label='Training loss')\n",
        "plt.plot(history.history['val_loss'], label='Validation loss')\n",
        "plt.legend()"
      ]
    },
    {
      "cell_type": "code",
      "execution_count": null,
      "id": "dd77c94c",
      "metadata": {
        "id": "dd77c94c",
        "outputId": "f1359040-5d57-4622-d6c1-77a8b2dbac8e"
      },
      "outputs": [
        {
          "name": "stdout",
          "output_type": "stream",
          "text": [
            "379/379 [==============================] - 6s 10ms/step\n"
          ]
        }
      ],
      "source": [
        "#predict\n",
        "testX=X_test.reshape(X_test.shape[0],9,3)\n",
        "prediction = model.predict(testX)"
      ]
    },
    {
      "cell_type": "code",
      "execution_count": null,
      "id": "6d6b11cb",
      "metadata": {
        "id": "6d6b11cb",
        "outputId": "91e123df-3b13-4395-ec9c-2b3225907ae0"
      },
      "outputs": [
        {
          "name": "stdout",
          "output_type": "stream",
          "text": [
            "[0 0 1 ... 0 0 0]\n",
            "[[0.]\n",
            " [0.]\n",
            " [1.]\n",
            " ...\n",
            " [0.]\n",
            " [0.]\n",
            " [0.]]\n"
          ]
        }
      ],
      "source": [
        "print(y_test)\n",
        "prediction=np.round(prediction)\n",
        "for i in range(len(prediction)):\n",
        "    prediction[i]=int(prediction[i])\n",
        "print(prediction)"
      ]
    },
    {
      "cell_type": "code",
      "execution_count": null,
      "id": "f77aef23",
      "metadata": {
        "id": "f77aef23",
        "outputId": "64957686-5def-464b-dfc3-2b9fc8aa2d4f"
      },
      "outputs": [
        {
          "name": "stdout",
          "output_type": "stream",
          "text": [
            "0.9993388429752066\n"
          ]
        }
      ],
      "source": [
        "#Accuracy\n",
        "print(accuracy_score(y_test,prediction))\n",
        "dbfile = open('Test_set_for_W=9_C=2', 'wb')\n",
        "pickle.dump(y_test,dbfile )\n",
        "dbfile.close()\n",
        "dbfile = open('Predictions_for_W=9_C=2', 'wb')\n",
        "pickle.dump(prediction,dbfile )\n",
        "dbfile.close()"
      ]
    },
    {
      "cell_type": "code",
      "execution_count": null,
      "id": "80ba72e2",
      "metadata": {
        "id": "80ba72e2",
        "outputId": "9bcfacfc-1c40-43ad-c481-ca358135b650"
      },
      "outputs": [
        {
          "data": {
            "text/plain": [
              "<AxesSubplot: >"
            ]
          },
          "execution_count": 63,
          "metadata": {},
          "output_type": "execute_result"
        },
        {
          "data": {
            "image/png": "[encoded data removed]",
            "text/plain": [
              "<Figure size 432x288 with 2 Axes>"
            ]
          },
          "metadata": {
            "needs_background": "light"
          },
          "output_type": "display_data"
        }
      ],
      "source": [
        "#confusion matrix\n",
        "#different numbers becsuse of different train test split\n",
        "cf_matrix = confusion_matrix(y_test,prediction)\n",
        "#print(cf_matrix)\n",
        "plt.title('Confusion Matrix')\n",
        "sns.heatmap(cf_matrix/np.sum(cf_matrix), annot=True, fmt='.2%', cmap='summer')"
      ]
    },
    {
      "cell_type": "code",
      "execution_count": null,
      "id": "9f32f91c",
      "metadata": {
        "id": "9f32f91c",
        "outputId": "81851e9d-87e3-40d3-dcfb-0714f9d0713c"
      },
      "outputs": [
        {
          "data": {
            "image/png": "[encoded data removed]",
            "text/plain": [
              "<Figure size 432x288 with 1 Axes>"
            ]
          },
          "metadata": {
            "needs_background": "light"
          },
          "output_type": "display_data"
        }
      ],
      "source": [
        "#ROC Curve\n",
        "fpr, tpr, _ = roc_curve(y_test,  prediction)\n",
        "\n",
        "#create ROC curve\n",
        "plt.plot(fpr,tpr)\n",
        "plt.ylabel('True Positive Rate')\n",
        "plt.xlabel('False Positive Rate')\n",
        "plt.title('ROC Curve')\n",
        "plt.show()"
      ]
    },
    {
      "cell_type": "code",
      "execution_count": null,
      "id": "f4d5b2a2",
      "metadata": {
        "id": "f4d5b2a2",
        "outputId": "79704fbf-971f-4825-a1fa-d9f564ccda61"
      },
      "outputs": [
        {
          "name": "stdout",
          "output_type": "stream",
          "text": [
            "Model: \"sequential_14\"\n",
            "_________________________________________________________________\n",
            " Layer (type)                Output Shape              Param #   \n",
            "=================================================================\n",
            " lstm_33 (LSTM)              (None, 9, 64)             17408     \n",
            "                                                                 \n",
            " lstm_34 (LSTM)              (None, 32)                12416     \n",
            "                                                                 \n",
            " dropout_14 (Dropout)        (None, 32)                0         \n",
            "                                                                 \n",
            " dense_14 (Dense)            (None, 1)                 33        \n",
            "                                                                 \n",
            "=================================================================\n",
            "Total params: 29,857\n",
            "Trainable params: 29,857\n",
            "Non-trainable params: 0\n",
            "_________________________________________________________________\n",
            "Epoch 1/3\n",
            "26293/26293 [==============================] - 614s 23ms/step - loss: 0.0147 - val_loss: 0.0017\n",
            "Epoch 2/3\n",
            "26293/26293 [==============================] - 602s 23ms/step - loss: 0.0019 - val_loss: 0.0016\n",
            "Epoch 3/3\n",
            "26293/26293 [==============================] - 623s 24ms/step - loss: 0.0019 - val_loss: 0.0016\n",
            "379/379 [==============================] - 6s 11ms/step\n",
            "[0.996694214876033]\n",
            "Model: \"sequential_15\"\n",
            "_________________________________________________________________\n",
            " Layer (type)                Output Shape              Param #   \n",
            "=================================================================\n",
            " lstm_35 (LSTM)              (None, 9, 64)             17408     \n",
            "                                                                 \n",
            " lstm_36 (LSTM)              (None, 32)                12416     \n",
            "                                                                 \n",
            " dropout_15 (Dropout)        (None, 32)                0         \n",
            "                                                                 \n",
            " dense_15 (Dense)            (None, 1)                 33        \n",
            "                                                                 \n",
            "=================================================================\n",
            "Total params: 29,857\n",
            "Trainable params: 29,857\n",
            "Non-trainable params: 0\n",
            "_________________________________________________________________\n",
            "Epoch 1/3\n",
            "26293/26293 [==============================] - 672s 25ms/step - loss: 0.0034 - val_loss: 0.0015\n",
            "Epoch 2/3\n",
            "26293/26293 [==============================] - 660s 25ms/step - loss: 0.0010 - val_loss: 5.6018e-04\n",
            "Epoch 3/3\n",
            "26293/26293 [==============================] - 670s 25ms/step - loss: 6.6522e-04 - val_loss: 4.3331e-04\n",
            "379/379 [==============================] - 6s 11ms/step\n",
            "[0.996694214876033, 0.9993388429752066]\n",
            "Model: \"sequential_16\"\n",
            "_________________________________________________________________\n",
            " Layer (type)                Output Shape              Param #   \n",
            "=================================================================\n",
            " lstm_37 (LSTM)              (None, 9, 64)             17408     \n",
            "                                                                 \n",
            " lstm_38 (LSTM)              (None, 32)                12416     \n",
            "                                                                 \n",
            " dropout_16 (Dropout)        (None, 32)                0         \n",
            "                                                                 \n",
            " dense_16 (Dense)            (None, 1)                 33        \n",
            "                                                                 \n",
            "=================================================================\n",
            "Total params: 29,857\n",
            "Trainable params: 29,857\n",
            "Non-trainable params: 0\n",
            "_________________________________________________________________\n",
            "Epoch 1/3\n",
            "26293/26293 [==============================] - 668s 25ms/step - loss: 0.0011 - val_loss: 4.2773e-04\n",
            "Epoch 2/3\n",
            "26293/26293 [==============================] - 662s 25ms/step - loss: 5.5322e-04 - val_loss: 3.9926e-04\n",
            "Epoch 3/3\n",
            "26293/26293 [==============================] - 865s 33ms/step - loss: 4.7246e-04 - val_loss: 3.8242e-04\n",
            "379/379 [==============================] - 7s 11ms/step\n",
            "[0.996694214876033, 0.9993388429752066, 0.9993388429752066]\n",
            "Model: \"sequential_17\"\n",
            "_________________________________________________________________\n",
            " Layer (type)                Output Shape              Param #   \n",
            "=================================================================\n",
            " lstm_39 (LSTM)              (None, 9, 64)             17408     \n",
            "                                                                 \n",
            " lstm_40 (LSTM)              (None, 32)                12416     \n",
            "                                                                 \n",
            " dropout_17 (Dropout)        (None, 32)                0         \n",
            "                                                                 \n",
            " dense_17 (Dense)            (None, 1)                 33        \n",
            "                                                                 \n",
            "=================================================================\n",
            "Total params: 29,857\n",
            "Trainable params: 29,857\n",
            "Non-trainable params: 0\n",
            "_________________________________________________________________\n",
            "Epoch 1/3\n",
            "26293/26293 [==============================] - 688s 26ms/step - loss: 0.0118 - val_loss: 0.0023\n",
            "Epoch 2/3\n",
            "26293/26293 [==============================] - 705s 27ms/step - loss: 0.0021 - val_loss: 0.0027\n",
            "Epoch 3/3\n",
            "26293/26293 [==============================] - 767s 29ms/step - loss: 0.0018 - val_loss: 7.5850e-04\n",
            "379/379 [==============================] - 9s 17ms/step\n",
            "[0.996694214876033, 0.9993388429752066, 0.9993388429752066, 0.998099173553719]\n",
            "Model: \"sequential_18\"\n",
            "_________________________________________________________________\n",
            " Layer (type)                Output Shape              Param #   \n",
            "=================================================================\n",
            " lstm_41 (LSTM)              (None, 9, 64)             17408     \n",
            "                                                                 \n",
            " lstm_42 (LSTM)              (None, 32)                12416     \n",
            "                                                                 \n",
            " dropout_18 (Dropout)        (None, 32)                0         \n",
            "                                                                 \n",
            " dense_18 (Dense)            (None, 1)                 33        \n",
            "                                                                 \n",
            "=================================================================\n",
            "Total params: 29,857\n",
            "Trainable params: 29,857\n",
            "Non-trainable params: 0\n",
            "_________________________________________________________________\n",
            "Epoch 1/3\n",
            "26293/26293 [==============================] - 920s 35ms/step - loss: 0.0109 - val_loss: 0.0106\n",
            "Epoch 2/3\n",
            "26293/26293 [==============================] - 631s 24ms/step - loss: 0.0109 - val_loss: 0.0106\n",
            "Epoch 3/3\n",
            "26293/26293 [==============================] - 880s 33ms/step - loss: 0.0109 - val_loss: 0.0106\n",
            "379/379 [==============================] - 6s 10ms/step\n",
            "[0.996694214876033, 0.9993388429752066, 0.9993388429752066, 0.998099173553719, 0.9886776859504133]\n"
          ]
        }
      ],
      "source": [
        "#για να βρούμε το καλύτερο learning rate\n",
        "acc_for_lr=[]\n",
        "for lr in list(map(lambda x:10**x, range(-5,0))):\n",
        "    acc_for_lr.append(LSTM_train(trainX,y_train,X_test,y_test,lr,9))\n",
        "    print(acc_for_lr)"
      ]
    },
    {
      "cell_type": "code",
      "execution_count": null,
      "id": "4460d859",
      "metadata": {
        "id": "4460d859",
        "outputId": "e5098c95-6031-4f64-f8e8-8c996460f3bc"
      },
      "outputs": [
        {
          "data": {
            "image/png": "[encoded data removed]",
            "text/plain": [
              "<Figure size 432x288 with 1 Axes>"
            ]
          },
          "metadata": {
            "needs_background": "light"
          },
          "output_type": "display_data"
        }
      ],
      "source": [
        "plt.plot((list(map(lambda x:10**x, range(-5,0)))), acc_for_lr,marker='.')\n",
        "plt.xscale('log')\n",
        "plt.ylabel('Accuracy', size=15)\n",
        "plt.xlabel('Learning Rate', size=15)\n",
        "plt.show()"
      ]
    },
    {
      "cell_type": "code",
      "execution_count": null,
      "id": "51324e73",
      "metadata": {
        "id": "51324e73",
        "outputId": "01d88952-2d8f-4108-e73c-c9814dbf8783"
      },
      "outputs": [
        {
          "name": "stdout",
          "output_type": "stream",
          "text": [
            "Model: \"sequential_19\"\n",
            "_________________________________________________________________\n",
            " Layer (type)                Output Shape              Param #   \n",
            "=================================================================\n",
            " lstm_43 (LSTM)              (None, 64)                17408     \n",
            "                                                                 \n",
            " dropout_19 (Dropout)        (None, 64)                0         \n",
            "                                                                 \n",
            " dense_19 (Dense)            (None, 1)                 65        \n",
            "                                                                 \n",
            "=================================================================\n",
            "Total params: 17,473\n",
            "Trainable params: 17,473\n",
            "Non-trainable params: 0\n",
            "_________________________________________________________________\n",
            "Epoch 1/3\n",
            "26293/26293 [==============================] - 401s 15ms/step - loss: 0.0012 - val_loss: 4.2900e-04\n",
            "Epoch 2/3\n",
            "26293/26293 [==============================] - 409s 16ms/step - loss: 5.3260e-04 - val_loss: 4.2998e-04\n",
            "Epoch 3/3\n",
            "26293/26293 [==============================] - 517s 20ms/step - loss: 5.0219e-04 - val_loss: 3.6797e-04\n",
            "379/379 [==============================] - 8s 16ms/step\n",
            "[0.9993388429752066]\n",
            "Model: \"sequential_20\"\n",
            "_________________________________________________________________\n",
            " Layer (type)                Output Shape              Param #   \n",
            "=================================================================\n",
            " lstm_44 (LSTM)              (None, 9, 64)             17408     \n",
            "                                                                 \n",
            " lstm_45 (LSTM)              (None, 32)                12416     \n",
            "                                                                 \n",
            " dropout_20 (Dropout)        (None, 32)                0         \n",
            "                                                                 \n",
            " dense_20 (Dense)            (None, 1)                 33        \n",
            "                                                                 \n",
            "=================================================================\n",
            "Total params: 29,857\n",
            "Trainable params: 29,857\n",
            "Non-trainable params: 0\n",
            "_________________________________________________________________\n",
            "Epoch 1/3\n",
            "26293/26293 [==============================] - 869s 32ms/step - loss: 0.0011 - val_loss: 4.1427e-04\n",
            "Epoch 2/3\n",
            "26293/26293 [==============================] - 874s 33ms/step - loss: 5.2344e-04 - val_loss: 3.9559e-04\n",
            "Epoch 3/3\n",
            "26293/26293 [==============================] - 710s 27ms/step - loss: 4.9610e-04 - val_loss: 3.7066e-04\n",
            "379/379 [==============================] - 7s 12ms/step\n",
            "[0.9993388429752066, 0.9993388429752066]\n",
            "Model: \"sequential_21\"\n",
            "_________________________________________________________________\n",
            " Layer (type)                Output Shape              Param #   \n",
            "=================================================================\n",
            " lstm_46 (LSTM)              (None, 9, 64)             17408     \n",
            "                                                                 \n",
            " lstm_47 (LSTM)              (None, 9, 32)             12416     \n",
            "                                                                 \n",
            " lstm_48 (LSTM)              (None, 32)                8320      \n",
            "                                                                 \n",
            " dropout_21 (Dropout)        (None, 32)                0         \n",
            "                                                                 \n",
            " dense_21 (Dense)            (None, 1)                 33        \n",
            "                                                                 \n",
            "=================================================================\n",
            "Total params: 38,177\n",
            "Trainable params: 38,177\n",
            "Non-trainable params: 0\n",
            "_________________________________________________________________\n",
            "Epoch 1/3\n",
            "26293/26293 [==============================] - 945s 35ms/step - loss: 0.0012 - val_loss: 4.0947e-04\n",
            "Epoch 2/3\n",
            "26293/26293 [==============================] - 938s 36ms/step - loss: 5.5467e-04 - val_loss: 3.9003e-04\n",
            "Epoch 3/3\n",
            "26293/26293 [==============================] - 936s 36ms/step - loss: 5.2594e-04 - val_loss: 4.0350e-04\n",
            "379/379 [==============================] - 9s 15ms/step\n",
            "[0.9993388429752066, 0.9993388429752066, 0.9993388429752066]\n",
            "Model: \"sequential_22\"\n",
            "_________________________________________________________________\n",
            " Layer (type)                Output Shape              Param #   \n",
            "=================================================================\n",
            " lstm_49 (LSTM)              (None, 9, 64)             17408     \n",
            "                                                                 \n",
            " lstm_50 (LSTM)              (None, 9, 32)             12416     \n",
            "                                                                 \n",
            " lstm_51 (LSTM)              (None, 9, 32)             8320      \n",
            "                                                                 \n",
            " lstm_52 (LSTM)              (None, 32)                8320      \n",
            "                                                                 \n",
            " dropout_22 (Dropout)        (None, 32)                0         \n",
            "                                                                 \n",
            " dense_22 (Dense)            (None, 1)                 33        \n",
            "                                                                 \n",
            "=================================================================\n",
            "Total params: 46,497\n",
            "Trainable params: 46,497\n",
            "Non-trainable params: 0\n",
            "_________________________________________________________________\n",
            "Epoch 1/3\n",
            "26293/26293 [==============================] - 1214s 45ms/step - loss: 0.0014 - val_loss: 4.0660e-04\n",
            "Epoch 2/3\n",
            "26293/26293 [==============================] - 1173s 45ms/step - loss: 5.3623e-04 - val_loss: 4.1898e-04\n",
            "Epoch 3/3\n",
            "26293/26293 [==============================] - 1189s 45ms/step - loss: 0.0010 - val_loss: 4.0337e-04\n",
            "379/379 [==============================] - 14s 22ms/step\n",
            "[0.9993388429752066, 0.9993388429752066, 0.9993388429752066, 0.9993388429752066]\n",
            "Model: \"sequential_23\"\n",
            "_________________________________________________________________\n",
            " Layer (type)                Output Shape              Param #   \n",
            "=================================================================\n",
            " lstm_53 (LSTM)              (None, 9, 64)             17408     \n",
            "                                                                 \n",
            " lstm_54 (LSTM)              (None, 9, 32)             12416     \n",
            "                                                                 \n",
            " lstm_55 (LSTM)              (None, 9, 32)             8320      \n",
            "                                                                 \n",
            " lstm_56 (LSTM)              (None, 9, 32)             8320      \n",
            "                                                                 \n",
            " lstm_57 (LSTM)              (None, 32)                8320      \n",
            "                                                                 \n",
            " dropout_23 (Dropout)        (None, 32)                0         \n",
            "                                                                 \n",
            " dense_23 (Dense)            (None, 1)                 33        \n",
            "                                                                 \n",
            "=================================================================\n",
            "Total params: 54,817\n",
            "Trainable params: 54,817\n",
            "Non-trainable params: 0\n",
            "_________________________________________________________________\n",
            "Epoch 1/3\n",
            "26293/26293 [==============================] - 1531s 56ms/step - loss: 0.0016 - val_loss: 4.1702e-04\n",
            "Epoch 2/3\n",
            "26293/26293 [==============================] - 1293s 49ms/step - loss: 6.8672e-04 - val_loss: 8.0021e-04\n",
            "Epoch 3/3\n",
            "26293/26293 [==============================] - 1293s 49ms/step - loss: 0.0011 - val_loss: 4.2280e-04\n",
            "379/379 [==============================] - 13s 21ms/step\n",
            "[0.9993388429752066, 0.9993388429752066, 0.9993388429752066, 0.9993388429752066, 0.9993388429752066]\n"
          ]
        }
      ],
      "source": [
        "#για να βρούμε τον καλύτερο αριθμό hidden layer\n",
        "acc_for_hl=[]\n",
        "for hl in range(1,6):\n",
        "    acc_for_hl.append(LSTM_train_hidden_layers(trainX,y_train,X_test,y_test,hl,9))\n",
        "    print(acc_for_hl)"
      ]
    },
    {
      "cell_type": "code",
      "execution_count": null,
      "id": "85b0b969",
      "metadata": {
        "id": "85b0b969",
        "outputId": "74efdc74-a8b0-4eb3-8a83-850a79445fd4"
      },
      "outputs": [
        {
          "data": {
            "image/png": "[encoded data removed]",
            "text/plain": [
              "<Figure size 432x288 with 1 Axes>"
            ]
          },
          "metadata": {
            "needs_background": "light"
          },
          "output_type": "display_data"
        }
      ],
      "source": [
        "plt.plot([1,2,3,4,5], acc_for_hl,marker='.')\n",
        "plt.xscale('log')\n",
        "plt.ylabel('Accuracy', size=15)\n",
        "plt.xlabel('Number of Hidden Layers', size=15)\n",
        "plt.show()"
      ]
    },
    {
      "cell_type": "markdown",
      "id": "4d55f2e0",
      "metadata": {
        "id": "4d55f2e0"
      },
      "source": [
        "### Prediction for further in the future"
      ]
    },
    {
      "cell_type": "markdown",
      "id": "f6e8252a",
      "metadata": {
        "id": "f6e8252a"
      },
      "source": [
        "Όπως είδαμε, η ακρίβεια (accuracy) επηρεάζεται από το χρονικό παράθυρο, ωστόσο σε όλα τα χρονικά παράθυρα πετυχαίναμε πολύ υψηλό accuracy, οπότε θα επιλέξουμε το W=3, προκειμένου να περιορίσουμε τον αριθμό εισόδων στο μοντέλο μας. Για W=3, ο αριθμός των hidden layers δεν επηρεάζει την απόδοση μας, οπότε θα επιλέξουμε να έχουμε ένα μόνο hidden layer για να απλουστεύσουμε το μοντέλο μας, ενώ, ως βέλτιστο lr επιλέγουμε το 10^(-3)."
      ]
    },
    {
      "cell_type": "code",
      "execution_count": null,
      "id": "f62078be",
      "metadata": {
        "id": "f62078be"
      },
      "outputs": [],
      "source": [
        "C=10"
      ]
    },
    {
      "cell_type": "code",
      "execution_count": null,
      "id": "6699075c",
      "metadata": {
        "id": "6699075c",
        "outputId": "3feb629b-cf42-4c9a-836e-23b583ba5fc8"
      },
      "outputs": [
        {
          "name": "stdout",
          "output_type": "stream",
          "text": [
            "[[0 0 0 ... 0 0 0]\n",
            " [0 0 0 ... 0 0 0]\n",
            " [0 0 0 ... 0 0 0]\n",
            " ...\n",
            " [0 0 0 ... 0 0 0]\n",
            " [0 0 0 ... 0 0 0]\n",
            " [0 0 0 ... 0 0 0]]\n",
            "y:  [0 0 0 ... 0 0 0]\n"
          ]
        }
      ],
      "source": [
        "# Importing the dataset\n",
        "dataset = pd.read_csv('MCS_dataset_W=3_C='+str(C)+'.txt')\n",
        "X = dataset.iloc[:, :-1].values\n",
        "y = dataset.iloc[:, -1].values\n",
        "print(X)\n",
        "print('y: ',y)"
      ]
    },
    {
      "cell_type": "code",
      "execution_count": null,
      "id": "3d2e8e3b",
      "metadata": {
        "id": "3d2e8e3b"
      },
      "outputs": [],
      "source": [
        "# training-test split\n",
        "X_train, X_test, y_train, y_test = train_test_split(X, y, test_size=12100, random_state=0)"
      ]
    },
    {
      "cell_type": "code",
      "execution_count": null,
      "id": "4b98267d",
      "metadata": {
        "id": "4b98267d",
        "outputId": "4f35ba31-1b8f-49c5-acbc-52ece375d5a7"
      },
      "outputs": [
        {
          "name": "stdout",
          "output_type": "stream",
          "text": [
            "[[1.  1.  1.  ... 0.8 0.8 0.8]\n",
            " [0.  0.  0.  ... 0.  0.  0. ]\n",
            " [0.  0.  0.  ... 0.  0.  0. ]\n",
            " ...\n",
            " [0.  0.  0.  ... 0.  0.  0. ]\n",
            " [0.  0.  0.  ... 0.  0.  0. ]\n",
            " [1.  1.  1.  ... 0.2 0.2 0.2]]\n"
          ]
        }
      ],
      "source": [
        "#MinMaxScaling\n",
        "#only for input, because we have classification\n",
        "scaler_data=MinMaxScaler()\n",
        "\n",
        "X_train=scaler_data.fit_transform(X_train)\n",
        "X_test=scaler_data.transform(X_test)\n",
        "print(X_test)"
      ]
    },
    {
      "cell_type": "code",
      "execution_count": null,
      "id": "5b6b93b9",
      "metadata": {
        "id": "5b6b93b9",
        "outputId": "e3ab511e-a746-4b23-fe7d-f1681904d902"
      },
      "outputs": [
        {
          "name": "stdout",
          "output_type": "stream",
          "text": [
            "(458780, 3, 3)\n"
          ]
        }
      ],
      "source": [
        "trainX=X_train.reshape(X_train.shape[0],3,3)\n",
        "print(trainX.shape)"
      ]
    },
    {
      "cell_type": "code",
      "execution_count": null,
      "id": "c348f395",
      "metadata": {
        "id": "c348f395",
        "outputId": "2318c9c0-2ca4-4100-a648-6180b020ded1"
      },
      "outputs": [
        {
          "name": "stdout",
          "output_type": "stream",
          "text": [
            "Model: \"sequential_12\"\n",
            "_________________________________________________________________\n",
            " Layer (type)                Output Shape              Param #   \n",
            "=================================================================\n",
            " lstm_28 (LSTM)              (None, 64)                17408     \n",
            "                                                                 \n",
            " dropout_12 (Dropout)        (None, 64)                0         \n",
            "                                                                 \n",
            " dense_12 (Dense)            (None, 1)                 65        \n",
            "                                                                 \n",
            "=================================================================\n",
            "Total params: 17,473\n",
            "Trainable params: 17,473\n",
            "Non-trainable params: 0\n",
            "_________________________________________________________________\n"
          ]
        }
      ],
      "source": [
        "#πάμε να φτιάξουμε την δομή του lSTM\n",
        "model = Sequential()\n",
        "model.add(LSTM(64, input_shape=(trainX.shape[1], trainX.shape[2]), return_sequences=False))\n",
        "model.add(Dropout(0.2)) #για να εμποδίσει το overfitting.\n",
        "model.add(Dense(1, activation='sigmoid')) #sigmoid is important for classication\n",
        "\n",
        "#opt = optimizers.Adam(learning_rate=lr)\n",
        "model.compile(optimizer='adam', loss='mse')\n",
        "model.summary()"
      ]
    },
    {
      "cell_type": "code",
      "execution_count": null,
      "id": "3f42dd21",
      "metadata": {
        "id": "3f42dd21",
        "outputId": "cde15b43-1bdb-4899-df71-a2e5999612d3"
      },
      "outputs": [
        {
          "name": "stdout",
          "output_type": "stream",
          "text": [
            "Epoch 1/3\n",
            "25807/25807 [==============================] - 580s 21ms/step - loss: 0.0101 - val_loss: 0.0094\n",
            "Epoch 2/3\n",
            "25807/25807 [==============================] - 357s 14ms/step - loss: 0.0084 - val_loss: 0.0078\n",
            "Epoch 3/3\n",
            "25807/25807 [==============================] - 374s 15ms/step - loss: 0.0082 - val_loss: 0.0088\n"
          ]
        },
        {
          "data": {
            "text/plain": [
              "<matplotlib.legend.Legend at 0x12a53ba51f0>"
            ]
          },
          "execution_count": 27,
          "metadata": {},
          "output_type": "execute_result"
        },
        {
          "data": {
            "image/png": "[encoded data removed]",
            "text/plain": [
              "<Figure size 432x288 with 1 Axes>"
            ]
          },
          "metadata": {
            "needs_background": "light"
          },
          "output_type": "display_data"
        }
      ],
      "source": [
        "history = model.fit(trainX, y_train, epochs=3, batch_size=16, validation_split=0.1, verbose=1)\n",
        "\n",
        "plt.plot(history.history['loss'], label='Training loss')\n",
        "plt.plot(history.history['val_loss'], label='Validation loss')\n",
        "plt.legend()"
      ]
    },
    {
      "cell_type": "code",
      "execution_count": null,
      "id": "17f75577",
      "metadata": {
        "id": "17f75577",
        "outputId": "55610395-f147-4da3-f5f1-4fcfbdb7f32c"
      },
      "outputs": [
        {
          "name": "stdout",
          "output_type": "stream",
          "text": [
            "379/379 [==============================] - 6s 8ms/step\n"
          ]
        }
      ],
      "source": [
        "#predict\n",
        "testX=X_test.reshape(X_test.shape[0],3,3)\n",
        "prediction = model.predict(testX)"
      ]
    },
    {
      "cell_type": "code",
      "execution_count": null,
      "id": "844a85b4",
      "metadata": {
        "id": "844a85b4",
        "outputId": "e4ff5898-413f-4651-8914-e67b7293808b"
      },
      "outputs": [
        {
          "name": "stdout",
          "output_type": "stream",
          "text": [
            "[1 0 0 ... 0 0 1]\n",
            "[[1.]\n",
            " [0.]\n",
            " [0.]\n",
            " ...\n",
            " [0.]\n",
            " [0.]\n",
            " [1.]]\n"
          ]
        }
      ],
      "source": [
        "print(y_test)\n",
        "prediction=np.round(prediction)\n",
        "for i in range(len(prediction)):\n",
        "    prediction[i]=int(prediction[i])\n",
        "print(prediction)"
      ]
    },
    {
      "cell_type": "code",
      "execution_count": null,
      "id": "1d7cc478",
      "metadata": {
        "id": "1d7cc478",
        "outputId": "83a94867-64dd-4330-e391-01893d350137"
      },
      "outputs": [
        {
          "name": "stdout",
          "output_type": "stream",
          "text": [
            "0.989504132231405\n"
          ]
        }
      ],
      "source": [
        "#Accuracy\n",
        "print(accuracy_score(y_test,prediction))"
      ]
    },
    {
      "cell_type": "code",
      "execution_count": null,
      "id": "a4651576",
      "metadata": {
        "id": "a4651576",
        "outputId": "bdf29600-1409-4b2e-e8fc-6ba8db8838ee"
      },
      "outputs": [
        {
          "data": {
            "image/png": "[encoded data removed]",
            "text/plain": [
              "<Figure size 432x288 with 2 Axes>"
            ]
          },
          "metadata": {
            "needs_background": "light"
          },
          "output_type": "display_data"
        }
      ],
      "source": [
        "#confusion matrix\n",
        "#different numbers becsuse of different train test split\n",
        "cf_matrix = confusion_matrix(y_test,prediction)\n",
        "#print(cf_matrix)\n",
        "svm=sns.heatmap(cf_matrix/np.sum(cf_matrix), annot=True, fmt='.2%', cmap='summer')\n",
        "plt.title('Confusion Matrix')\n",
        "figure = svm.get_figure()\n",
        "figure.savefig('Confusion_Matrxi_C='+str(C)+'.png', dpi=400)"
      ]
    },
    {
      "cell_type": "code",
      "execution_count": null,
      "id": "c2c554b3",
      "metadata": {
        "id": "c2c554b3",
        "outputId": "55b9b304-f2b0-484d-fa0f-dc0b1ee7dcbc"
      },
      "outputs": [
        {
          "data": {
            "image/png": "[encoded data removed]",
            "text/plain": [
              "<Figure size 432x288 with 1 Axes>"
            ]
          },
          "metadata": {
            "needs_background": "light"
          },
          "output_type": "display_data"
        }
      ],
      "source": [
        "#ROC Curve\n",
        "fpr, tpr, _ = roc_curve(y_test,  prediction)\n",
        "\n",
        "#create ROC curve\n",
        "plt.plot(fpr,tpr)\n",
        "plt.ylabel('True Positive Rate')\n",
        "plt.xlabel('False Positive Rate')\n",
        "plt.title('ROC Curve')\n",
        "plt.savefig('ROC_Curve_C='+str(C)+'.png')\n",
        "plt.show()"
      ]
    },
    {
      "cell_type": "code",
      "execution_count": null,
      "id": "0f5544ee",
      "metadata": {
        "id": "0f5544ee",
        "outputId": "6bbc3713-ea46-4c01-fccc-78c39e55f8cf"
      },
      "outputs": [
        {
          "name": "stdout",
          "output_type": "stream",
          "text": [
            "Model: \"sequential_13\"\n",
            "_________________________________________________________________\n",
            " Layer (type)                Output Shape              Param #   \n",
            "=================================================================\n",
            " lstm_29 (LSTM)              (None, 3, 64)             17408     \n",
            "                                                                 \n",
            " lstm_30 (LSTM)              (None, 32)                12416     \n",
            "                                                                 \n",
            " dropout_13 (Dropout)        (None, 32)                0         \n",
            "                                                                 \n",
            " dense_13 (Dense)            (None, 1)                 33        \n",
            "                                                                 \n",
            "=================================================================\n",
            "Total params: 29,857\n",
            "Trainable params: 29,857\n",
            "Non-trainable params: 0\n",
            "_________________________________________________________________\n",
            "Epoch 1/3\n",
            "25807/25807 [==============================] - 759s 28ms/step - loss: 0.0113 - val_loss: 0.0079\n",
            "Epoch 2/3\n",
            "25807/25807 [==============================] - 742s 29ms/step - loss: 0.0086 - val_loss: 0.0078\n",
            "Epoch 3/3\n",
            "25807/25807 [==============================] - 638s 25ms/step - loss: 0.0092 - val_loss: 0.0094\n",
            "379/379 [==============================] - 12s 11ms/step\n",
            "[0.9888429752066116, 0.9910743801652893, 0.9910743801652893, 0.9888429752066116]\n",
            "Model: \"sequential_17\"\n",
            "_________________________________________________________________\n",
            " Layer (type)                Output Shape              Param #   \n",
            "=================================================================\n",
            " lstm_37 (LSTM)              (None, 3, 64)             17408     \n",
            "                                                                 \n",
            " lstm_38 (LSTM)              (None, 32)                12416     \n",
            "                                                                 \n",
            " dropout_17 (Dropout)        (None, 32)                0         \n",
            "                                                                 \n",
            " dense_17 (Dense)            (None, 1)                 33        \n",
            "                                                                 \n",
            "=================================================================\n",
            "Total params: 29,857\n",
            "Trainable params: 29,857\n",
            "Non-trainable params: 0\n",
            "_________________________________________________________________\n",
            "Epoch 1/3\n",
            "25807/25807 [==============================] - 670s 25ms/step - loss: 0.0163 - val_loss: 0.0140\n",
            "Epoch 2/3\n",
            "25807/25807 [==============================] - 605s 23ms/step - loss: 0.0141 - val_loss: 0.0140\n",
            "Epoch 3/3\n",
            "379/379 [==============================] - 11s 12ms/step\n",
            "[0.9888429752066116, 0.9910743801652893, 0.9910743801652893, 0.9888429752066116, 0.9835537190082645]\n"
          ]
        }
      ],
      "source": [
        "#για να βρούμε το καλύτερο learning rate\n",
        "acc_for_lr=[]\n",
        "for lr in list(map(lambda x:10**x, range(-5,0))):\n",
        "    acc_for_lr.append(LSTM_train(trainX,y_train,X_test,y_test,lr,3))\n",
        "    print(acc_for_lr)"
      ]
    },
    {
      "cell_type": "code",
      "execution_count": null,
      "id": "d5936524",
      "metadata": {
        "id": "d5936524",
        "outputId": "5e957337-45ac-421c-e099-ed1b620e5932"
      },
      "outputs": [
        {
          "data": {
            "image/png": "[encoded data removed]",
            "text/plain": [
              "<Figure size 432x288 with 1 Axes>"
            ]
          },
          "metadata": {
            "needs_background": "light"
          },
          "output_type": "display_data"
        }
      ],
      "source": [
        "plt.plot((list(map(lambda x:10**x, range(-5,0)))), acc_for_lr,marker='.')\n",
        "plt.xscale('log')\n",
        "plt.ylabel('Accuracy', size=15)\n",
        "plt.xlabel('Learning Rate', size=15)\n",
        "plt.savefig('Learning_Rate_C='+str(C)+'.png')\n",
        "plt.show()"
      ]
    },
    {
      "cell_type": "code",
      "execution_count": null,
      "id": "d1433947",
      "metadata": {
        "id": "d1433947",
        "outputId": "6313ca11-5a13-439e-efad-0786479ee167"
      },
      "outputs": [
        {
          "name": "stdout",
          "output_type": "stream",
          "text": [
            "Model: \"sequential_5\"\n",
            "_________________________________________________________________\n",
            " Layer (type)                Output Shape              Param #   \n",
            "=================================================================\n",
            " lstm_15 (LSTM)              (None, 64)                17408     \n",
            "                                                                 \n",
            " dropout_5 (Dropout)         (None, 64)                0         \n",
            "                                                                 \n",
            " dense_5 (Dense)             (None, 1)                 65        \n",
            "                                                                 \n",
            "=================================================================\n",
            "Total params: 17,473\n",
            "Trainable params: 17,473\n",
            "Non-trainable params: 0\n",
            "_________________________________________________________________\n",
            "Epoch 1/3\n",
            "25807/25807 [==============================] - 211s 8ms/step - loss: 0.0094 - val_loss: 0.0078\n",
            "Epoch 2/3\n",
            "25807/25807 [==============================] - 207s 8ms/step - loss: 0.0085 - val_loss: 0.0078\n",
            "Epoch 3/3\n",
            "25807/25807 [==============================] - 275s 11ms/step - loss: 0.0083 - val_loss: 0.0078\n",
            "379/379 [==============================] - 3s 6ms/step\n",
            "[0.9910743801652893]\n",
            "Model: \"sequential_6\"\n",
            "_________________________________________________________________\n",
            " Layer (type)                Output Shape              Param #   \n",
            "=================================================================\n",
            " lstm_16 (LSTM)              (None, 3, 64)             17408     \n",
            "                                                                 \n",
            " lstm_17 (LSTM)              (None, 32)                12416     \n",
            "                                                                 \n",
            " dropout_6 (Dropout)         (None, 32)                0         \n",
            "                                                                 \n",
            " dense_6 (Dense)             (None, 1)                 33        \n",
            "                                                                 \n",
            "=================================================================\n",
            "Total params: 29,857\n",
            "Trainable params: 29,857\n",
            "Non-trainable params: 0\n",
            "_________________________________________________________________\n",
            "Epoch 1/3\n",
            "25807/25807 [==============================] - 382s 14ms/step - loss: 0.0101 - val_loss: 0.0078\n",
            "Epoch 2/3\n",
            "25807/25807 [==============================] - 296s 11ms/step - loss: 0.0088 - val_loss: 0.0079\n",
            "Epoch 3/3\n",
            "25807/25807 [==============================] - 296s 11ms/step - loss: 0.0091 - val_loss: 0.0079\n",
            "379/379 [==============================] - 4s 5ms/step\n",
            "[0.9910743801652893, 0.9910743801652893]\n",
            "Model: \"sequential_7\"\n",
            "_________________________________________________________________\n",
            " Layer (type)                Output Shape              Param #   \n",
            "=================================================================\n",
            " lstm_18 (LSTM)              (None, 3, 64)             17408     \n",
            "                                                                 \n",
            " lstm_19 (LSTM)              (None, 3, 32)             12416     \n",
            "                                                                 \n",
            " lstm_20 (LSTM)              (None, 32)                8320      \n",
            "                                                                 \n",
            " dropout_7 (Dropout)         (None, 32)                0         \n",
            "                                                                 \n",
            " dense_7 (Dense)             (None, 1)                 33        \n",
            "                                                                 \n",
            "=================================================================\n",
            "Total params: 38,177\n",
            "Trainable params: 38,177\n",
            "Non-trainable params: 0\n",
            "_________________________________________________________________\n",
            "Epoch 1/3\n",
            "25807/25807 [==============================] - 398s 15ms/step - loss: 0.0100 - val_loss: 0.0078\n",
            "Epoch 2/3\n",
            "25807/25807 [==============================] - 385s 15ms/step - loss: 0.0091 - val_loss: 0.0078\n",
            "Epoch 3/3\n",
            "25807/25807 [==============================] - 397s 15ms/step - loss: 0.0104 - val_loss: 0.0079\n",
            "379/379 [==============================] - 7s 7ms/step\n",
            "[0.9910743801652893, 0.9910743801652893, 0.9910743801652893]\n",
            "Model: \"sequential_8\"\n",
            "_________________________________________________________________\n",
            " Layer (type)                Output Shape              Param #   \n",
            "=================================================================\n",
            " lstm_21 (LSTM)              (None, 3, 64)             17408     \n",
            "                                                                 \n",
            " lstm_22 (LSTM)              (None, 3, 32)             12416     \n",
            "                                                                 \n",
            " lstm_23 (LSTM)              (None, 3, 32)             8320      \n",
            "                                                                 \n",
            " lstm_24 (LSTM)              (None, 32)                8320      \n",
            "                                                                 \n",
            " dropout_8 (Dropout)         (None, 32)                0         \n",
            "                                                                 \n",
            " dense_8 (Dense)             (None, 1)                 33        \n",
            "                                                                 \n",
            "=================================================================\n",
            "Total params: 46,497\n",
            "Trainable params: 46,497\n",
            "Non-trainable params: 0\n",
            "_________________________________________________________________\n",
            "Epoch 1/3\n",
            "25807/25807 [==============================] - 522s 19ms/step - loss: 0.0100 - val_loss: 0.0078\n",
            "Epoch 2/3\n",
            "25807/25807 [==============================] - 474s 18ms/step - loss: 0.0087 - val_loss: 0.0078\n",
            "Epoch 3/3\n",
            "25807/25807 [==============================] - 480s 19ms/step - loss: 0.0094 - val_loss: 0.0078\n",
            "379/379 [==============================] - 6s 7ms/step\n",
            "[0.9910743801652893, 0.9910743801652893, 0.9910743801652893, 0.9910743801652893]\n",
            "Model: \"sequential_9\"\n",
            "_________________________________________________________________\n",
            " Layer (type)                Output Shape              Param #   \n",
            "=================================================================\n",
            " lstm_25 (LSTM)              (None, 3, 64)             17408     \n",
            "                                                                 \n",
            " lstm_26 (LSTM)              (None, 3, 32)             12416     \n",
            "                                                                 \n",
            " lstm_27 (LSTM)              (None, 3, 32)             8320      \n",
            "                                                                 \n",
            " lstm_28 (LSTM)              (None, 3, 32)             8320      \n",
            "                                                                 \n",
            " lstm_29 (LSTM)              (None, 32)                8320      \n",
            "                                                                 \n",
            " dropout_9 (Dropout)         (None, 32)                0         \n",
            "                                                                 \n",
            " dense_9 (Dense)             (None, 1)                 33        \n",
            "                                                                 \n",
            "=================================================================\n",
            "Total params: 54,817\n",
            "Trainable params: 54,817\n",
            "Non-trainable params: 0\n",
            "_________________________________________________________________\n",
            "Epoch 1/3\n",
            "25807/25807 [==============================] - 557s 21ms/step - loss: 0.0105 - val_loss: 0.0078\n",
            "Epoch 2/3\n",
            "25807/25807 [==============================] - 533s 21ms/step - loss: 0.0091 - val_loss: 0.0093\n",
            "Epoch 3/3\n",
            "25807/25807 [==============================] - 536s 21ms/step - loss: 0.0090 - val_loss: 0.0078\n",
            "379/379 [==============================] - 8s 8ms/step\n",
            "[0.9910743801652893, 0.9910743801652893, 0.9910743801652893, 0.9910743801652893, 0.9910743801652893]\n"
          ]
        }
      ],
      "source": [
        "#για να βρούμε τον καλύτερο αριθμό hidden layer\n",
        "acc_for_hl=[]\n",
        "for hl in range(1,6):\n",
        "    acc_for_hl.append(LSTM_train_hidden_layers(trainX,y_train,X_test,y_test,hl,3))\n",
        "    print(acc_for_hl)"
      ]
    },
    {
      "cell_type": "code",
      "execution_count": null,
      "id": "af6e4af5",
      "metadata": {
        "id": "af6e4af5",
        "outputId": "63312a0b-f68d-48e5-fb90-b1099d927c80"
      },
      "outputs": [
        {
          "data": {
            "image/png": "[encoded data removed]",
            "text/plain": [
              "<Figure size 432x288 with 1 Axes>"
            ]
          },
          "metadata": {
            "needs_background": "light"
          },
          "output_type": "display_data"
        }
      ],
      "source": [
        "plt.plot([1,2,3,4,5], acc_for_hl,marker='.')\n",
        "plt.xscale('log')\n",
        "plt.ylabel('Accuracy', size=15)\n",
        "plt.xlabel('Number of Hidden Layers', size=15)\n",
        "plt.savefig('Number_Hidden_Layers_C='+str(C)+'.png')\n",
        "plt.show()"
      ]
    }
  ],
  "metadata": {
    "kernelspec": {
      "display_name": "Python 3 (ipykernel)",
      "language": "python",
      "name": "python3"
    },
    "language_info": {
      "codemirror_mode": {
        "name": "ipython",
        "version": 3
      },
      "file_extension": ".py",
      "mimetype": "text/x-python",
      "name": "python",
      "nbconvert_exporter": "python",
      "pygments_lexer": "ipython3",
      "version": "3.9.7"
    },
    "colab": {
      "provenance": [],
      "include_colab_link": true
    }
  },
  "nbformat": 4,
  "nbformat_minor": 5
}