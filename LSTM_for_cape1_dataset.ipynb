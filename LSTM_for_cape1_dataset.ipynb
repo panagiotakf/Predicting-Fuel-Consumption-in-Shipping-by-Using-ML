{
  "cells": [
    {
      "cell_type": "markdown",
      "metadata": {
        "id": "view-in-github",
        "colab_type": "text"
      },
      "source": [
        "<a href=\"https://colab.research.google.com/github/panagiotakf/Predicting-Fuel-Consumption-in-Shipping-by-Using-ML/blob/main/LSTM_for_cape1_dataset.ipynb\" target=\"_parent\"><img src=\"https://colab.research.google.com/assets/colab-badge.svg\" alt=\"Open In Colab\"/></a>"
      ]
    },
    {
      "cell_type": "code",
      "execution_count": null,
      "id": "609f38fb",
      "metadata": {
        "colab": {
          "base_uri": "https://localhost:8080/"
        },
        "id": "609f38fb",
        "outputId": "17686d4a-2889-44e6-a203-7f85d7f1bde3"
      },
      "outputs": [
        {
          "output_type": "stream",
          "name": "stdout",
          "text": [
            "Requirement already satisfied: tensorflow in /usr/local/lib/python3.10/dist-packages (2.14.0)\n",
            "Requirement already satisfied: absl-py>=1.0.0 in /usr/local/lib/python3.10/dist-packages (from tensorflow) (1.4.0)\n",
            "Requirement already satisfied: astunparse>=1.6.0 in /usr/local/lib/python3.10/dist-packages (from tensorflow) (1.6.3)\n",
            "Requirement already satisfied: flatbuffers>=23.5.26 in /usr/local/lib/python3.10/dist-packages (from tensorflow) (23.5.26)\n",
            "Requirement already satisfied: gast!=0.5.0,!=0.5.1,!=0.5.2,>=0.2.1 in /usr/local/lib/python3.10/dist-packages (from tensorflow) (0.5.4)\n",
            "Requirement already satisfied: google-pasta>=0.1.1 in /usr/local/lib/python3.10/dist-packages (from tensorflow) (0.2.0)\n",
            "Requirement already satisfied: h5py>=2.9.0 in /usr/local/lib/python3.10/dist-packages (from tensorflow) (3.9.0)\n",
            "Requirement already satisfied: libclang>=13.0.0 in /usr/local/lib/python3.10/dist-packages (from tensorflow) (16.0.6)\n",
            "Requirement already satisfied: ml-dtypes==0.2.0 in /usr/local/lib/python3.10/dist-packages (from tensorflow) (0.2.0)\n",
            "Requirement already satisfied: numpy>=1.23.5 in /usr/local/lib/python3.10/dist-packages (from tensorflow) (1.23.5)\n",
            "Requirement already satisfied: opt-einsum>=2.3.2 in /usr/local/lib/python3.10/dist-packages (from tensorflow) (3.3.0)\n",
            "Requirement already satisfied: packaging in /usr/local/lib/python3.10/dist-packages (from tensorflow) (23.2)\n",
            "Requirement already satisfied: protobuf!=4.21.0,!=4.21.1,!=4.21.2,!=4.21.3,!=4.21.4,!=4.21.5,<5.0.0dev,>=3.20.3 in /usr/local/lib/python3.10/dist-packages (from tensorflow) (3.20.3)\n",
            "Requirement already satisfied: setuptools in /usr/local/lib/python3.10/dist-packages (from tensorflow) (67.7.2)\n",
            "Requirement already satisfied: six>=1.12.0 in /usr/local/lib/python3.10/dist-packages (from tensorflow) (1.16.0)\n",
            "Requirement already satisfied: termcolor>=1.1.0 in /usr/local/lib/python3.10/dist-packages (from tensorflow) (2.3.0)\n",
            "Requirement already satisfied: typing-extensions>=3.6.6 in /usr/local/lib/python3.10/dist-packages (from tensorflow) (4.5.0)\n",
            "Requirement already satisfied: wrapt<1.15,>=1.11.0 in /usr/local/lib/python3.10/dist-packages (from tensorflow) (1.14.1)\n",
            "Requirement already satisfied: tensorflow-io-gcs-filesystem>=0.23.1 in /usr/local/lib/python3.10/dist-packages (from tensorflow) (0.34.0)\n",
            "Requirement already satisfied: grpcio<2.0,>=1.24.3 in /usr/local/lib/python3.10/dist-packages (from tensorflow) (1.59.2)\n",
            "Requirement already satisfied: tensorboard<2.15,>=2.14 in /usr/local/lib/python3.10/dist-packages (from tensorflow) (2.14.1)\n",
            "Requirement already satisfied: tensorflow-estimator<2.15,>=2.14.0 in /usr/local/lib/python3.10/dist-packages (from tensorflow) (2.14.0)\n",
            "Requirement already satisfied: keras<2.15,>=2.14.0 in /usr/local/lib/python3.10/dist-packages (from tensorflow) (2.14.0)\n",
            "Requirement already satisfied: wheel<1.0,>=0.23.0 in /usr/local/lib/python3.10/dist-packages (from astunparse>=1.6.0->tensorflow) (0.41.3)\n",
            "Requirement already satisfied: google-auth<3,>=1.6.3 in /usr/local/lib/python3.10/dist-packages (from tensorboard<2.15,>=2.14->tensorflow) (2.17.3)\n",
            "Requirement already satisfied: google-auth-oauthlib<1.1,>=0.5 in /usr/local/lib/python3.10/dist-packages (from tensorboard<2.15,>=2.14->tensorflow) (1.0.0)\n",
            "Requirement already satisfied: markdown>=2.6.8 in /usr/local/lib/python3.10/dist-packages (from tensorboard<2.15,>=2.14->tensorflow) (3.5.1)\n",
            "Requirement already satisfied: requests<3,>=2.21.0 in /usr/local/lib/python3.10/dist-packages (from tensorboard<2.15,>=2.14->tensorflow) (2.31.0)\n",
            "Requirement already satisfied: tensorboard-data-server<0.8.0,>=0.7.0 in /usr/local/lib/python3.10/dist-packages (from tensorboard<2.15,>=2.14->tensorflow) (0.7.2)\n",
            "Requirement already satisfied: werkzeug>=1.0.1 in /usr/local/lib/python3.10/dist-packages (from tensorboard<2.15,>=2.14->tensorflow) (3.0.1)\n",
            "Requirement already satisfied: cachetools<6.0,>=2.0.0 in /usr/local/lib/python3.10/dist-packages (from google-auth<3,>=1.6.3->tensorboard<2.15,>=2.14->tensorflow) (5.3.2)\n",
            "Requirement already satisfied: pyasn1-modules>=0.2.1 in /usr/local/lib/python3.10/dist-packages (from google-auth<3,>=1.6.3->tensorboard<2.15,>=2.14->tensorflow) (0.3.0)\n",
            "Requirement already satisfied: rsa<5,>=3.1.4 in /usr/local/lib/python3.10/dist-packages (from google-auth<3,>=1.6.3->tensorboard<2.15,>=2.14->tensorflow) (4.9)\n",
            "Requirement already satisfied: requests-oauthlib>=0.7.0 in /usr/local/lib/python3.10/dist-packages (from google-auth-oauthlib<1.1,>=0.5->tensorboard<2.15,>=2.14->tensorflow) (1.3.1)\n",
            "Requirement already satisfied: charset-normalizer<4,>=2 in /usr/local/lib/python3.10/dist-packages (from requests<3,>=2.21.0->tensorboard<2.15,>=2.14->tensorflow) (3.3.2)\n",
            "Requirement already satisfied: idna<4,>=2.5 in /usr/local/lib/python3.10/dist-packages (from requests<3,>=2.21.0->tensorboard<2.15,>=2.14->tensorflow) (3.4)\n",
            "Requirement already satisfied: urllib3<3,>=1.21.1 in /usr/local/lib/python3.10/dist-packages (from requests<3,>=2.21.0->tensorboard<2.15,>=2.14->tensorflow) (2.0.7)\n",
            "Requirement already satisfied: certifi>=2017.4.17 in /usr/local/lib/python3.10/dist-packages (from requests<3,>=2.21.0->tensorboard<2.15,>=2.14->tensorflow) (2023.7.22)\n",
            "Requirement already satisfied: MarkupSafe>=2.1.1 in /usr/local/lib/python3.10/dist-packages (from werkzeug>=1.0.1->tensorboard<2.15,>=2.14->tensorflow) (2.1.3)\n",
            "Requirement already satisfied: pyasn1<0.6.0,>=0.4.6 in /usr/local/lib/python3.10/dist-packages (from pyasn1-modules>=0.2.1->google-auth<3,>=1.6.3->tensorboard<2.15,>=2.14->tensorflow) (0.5.0)\n",
            "Requirement already satisfied: oauthlib>=3.0.0 in /usr/local/lib/python3.10/dist-packages (from requests-oauthlib>=0.7.0->google-auth-oauthlib<1.1,>=0.5->tensorboard<2.15,>=2.14->tensorflow) (3.2.2)\n",
            "Requirement already satisfied: keras in /usr/local/lib/python3.10/dist-packages (2.14.0)\n"
          ]
        }
      ],
      "source": [
        "!pip install tensorflow\n",
        "!pip install keras"
      ]
    },
    {
      "cell_type": "code",
      "execution_count": null,
      "id": "23106537",
      "metadata": {
        "id": "23106537"
      },
      "outputs": [],
      "source": [
        "import pandas as pd # for easy dataset import\n",
        "import sklearn # for simple ML models\n",
        "from sklearn.model_selection import train_test_split\n",
        "from sklearn.preprocessing import MinMaxScaler # for data scaling in [0,1]\n",
        "import pickle # for saving sklearn models\n",
        "from sklearn.metrics import mean_absolute_percentage_error, mean_squared_error, mean_absolute_error, r2_score,f1_score\n",
        "import numpy as np\n",
        "import matplotlib.pyplot as plt\n",
        "from pandas import DataFrame\n",
        "from pandas import concat\n",
        "from keras.models import Sequential\n",
        "from keras.layers import LSTM\n",
        "from keras.layers import Dense, Dropout"
      ]
    },
    {
      "cell_type": "code",
      "execution_count": null,
      "id": "7ee05f7e",
      "metadata": {
        "id": "7ee05f7e"
      },
      "outputs": [],
      "source": [
        "WHICH_SHIP = 1 # ship to run"
      ]
    },
    {
      "cell_type": "code",
      "execution_count": null,
      "id": "4f80c4df",
      "metadata": {
        "id": "4f80c4df"
      },
      "outputs": [],
      "source": [
        "# 1. Importing the dataset. Now we have as data, MEP too.\n",
        "dataset = pd.read_csv('cape' +str(WHICH_SHIP) + '.csv')\n",
        "X = dataset.iloc[:, [0, 1, 4, 5, 8,9]].values # keep only SOG, STW, DWS, WD Trim and MEP,bring all the rows but keep only the defined columns\n",
        "X=X.reshape(-1,6) #do we need to reshape X too???"
      ]
    },
    {
      "cell_type": "code",
      "execution_count": null,
      "id": "b7a17f7a",
      "metadata": {
        "id": "b7a17f7a"
      },
      "outputs": [],
      "source": [
        "#2. create dataframe with our data\n",
        "X = pd.DataFrame(X, columns = ['SOG','STW','DWS','WD','TRIM','MEP']) #first transform np arrays to dataframes"
      ]
    },
    {
      "cell_type": "code",
      "execution_count": null,
      "id": "b9fc35f5",
      "metadata": {
        "colab": {
          "base_uri": "https://localhost:8080/"
        },
        "id": "b9fc35f5",
        "outputId": "e88c401f-df15-48fc-b2c7-93e370ba6aad"
      },
      "outputs": [
        {
          "output_type": "stream",
          "name": "stdout",
          "text": [
            "            SOG       STW       DWS          WD      TRIM          MEP\n",
            "0      0.001800  0.000615  0.006667    0.033753 -0.001921     4.481497\n",
            "1      0.119200  0.010449  0.130000    1.425998 -0.032125   132.556280\n",
            "2      0.470800  0.028888  0.596667   16.894491 -0.093411   521.574052\n",
            "3      1.273133  0.047327  1.296667   45.102739 -0.188238  1293.921082\n",
            "4      2.445533  0.065766  1.996667   73.287784 -0.313893  2305.202957\n",
            "...         ...       ...       ...         ...       ...          ...\n",
            "21270  6.362133  6.084035  3.923333  223.276873  9.030668  2839.817034\n",
            "21271  5.834600  5.559586  4.010000  223.112688  9.041843  2634.610896\n",
            "21272  5.304083  5.055309  4.166667  223.346691  9.057451  2506.412046\n",
            "21273  4.981833  4.777590  4.366667  223.453380  9.021970  2351.075778\n",
            "21274  4.717233  4.613174  4.566667  223.143018  8.513549  2278.539342\n",
            "\n",
            "[21275 rows x 6 columns]\n"
          ]
        }
      ],
      "source": [
        "print(X)"
      ]
    },
    {
      "cell_type": "code",
      "execution_count": null,
      "id": "9048801c",
      "metadata": {
        "colab": {
          "base_uri": "https://localhost:8080/"
        },
        "id": "9048801c",
        "outputId": "af82d297-87b7-4e8f-9ac6-5c7a30753224"
      },
      "outputs": [
        {
          "output_type": "stream",
          "name": "stdout",
          "text": [
            "            SOG       STW       DWS        WD      TRIM       MEP\n",
            "0      0.000000  0.000000  0.000000  0.000000  0.531814  0.000000\n",
            "1      0.007542  0.000703  0.012342  0.003887  0.530743  0.009428\n",
            "2      0.030128  0.002022  0.059039  0.047076  0.528569  0.038064\n",
            "3      0.081669  0.003341  0.129086  0.125836  0.525205  0.094917\n",
            "4      0.156983  0.004660  0.199133  0.204530  0.520748  0.169359\n",
            "...         ...       ...       ...       ...       ...       ...\n",
            "21270  0.408581  0.435088  0.391928  0.623310  0.852196  0.208713\n",
            "21271  0.374693  0.397579  0.400600  0.622852  0.852593  0.193608\n",
            "21272  0.340613  0.361513  0.416278  0.623505  0.853146  0.184171\n",
            "21273  0.319912  0.341650  0.436291  0.623803  0.851888  0.172736\n",
            "21274  0.302915  0.329891  0.456304  0.622937  0.833854  0.167397\n",
            "\n",
            "[21275 rows x 6 columns]\n"
          ]
        }
      ],
      "source": [
        "#Τώρα θα πρέπει αρχικά να κάνουμε standardize τα δεδομένα μας\n",
        "scaler=MinMaxScaler()\n",
        "X_train=scaler.fit_transform(X)\n",
        "X_train=pd.DataFrame(X_train, columns = ['SOG','STW','DWS','WD','TRIM','MEP'])\n",
        "print(X_train)\n"
      ]
    },
    {
      "cell_type": "code",
      "execution_count": null,
      "id": "34208a81",
      "metadata": {
        "colab": {
          "base_uri": "https://localhost:8080/"
        },
        "id": "34208a81",
        "outputId": "2d6086e1-7ba4-4d13-dc39-b12cb16b96f9"
      },
      "outputs": [
        {
          "output_type": "stream",
          "name": "stdout",
          "text": [
            "       SOG(t-3)  STW(t-3)  DWS(t-3)   WD(t-3)  TRIM(t-3)  MEP(t-3)  SOG(t-2)  \\\n",
            "3      0.000000  0.000000  0.000000  0.000000   0.531814  0.000000  0.007542   \n",
            "4      0.007542  0.000703  0.012342  0.003887   0.530743  0.009428  0.030128   \n",
            "5      0.030128  0.002022  0.059039  0.047076   0.528569  0.038064  0.081669   \n",
            "6      0.081669  0.003341  0.129086  0.125836   0.525205  0.094917  0.156983   \n",
            "7      0.156983  0.004660  0.199133  0.204530   0.520748  0.169359  0.229633   \n",
            "...         ...       ...       ...       ...        ...       ...       ...   \n",
            "21270  0.385813  0.411397  0.358906  0.628022   0.852718  0.205013  0.393741   \n",
            "21271  0.393741  0.418586  0.373916  0.624442   0.852788  0.215051  0.414539   \n",
            "21272  0.414539  0.442017  0.383923  0.624181   0.852309  0.217128  0.408581   \n",
            "21273  0.408581  0.435088  0.391928  0.623310   0.852196  0.208713  0.374693   \n",
            "21274  0.374693  0.397579  0.400600  0.622852   0.852593  0.193608  0.340613   \n",
            "\n",
            "       STW(t-2)  DWS(t-2)   WD(t-2)  ...  DWS(t-1)   WD(t-1)  TRIM(t-1)  \\\n",
            "3      0.000703  0.012342  0.003887  ...  0.059039  0.047076   0.528569   \n",
            "4      0.002022  0.059039  0.047076  ...  0.129086  0.125836   0.525205   \n",
            "5      0.003341  0.129086  0.125836  ...  0.199133  0.204530   0.520748   \n",
            "6      0.004660  0.199133  0.204530  ...  0.269179  0.283161   0.516150   \n",
            "7      0.005978  0.269179  0.283161  ...  0.339226  0.361728   0.511355   \n",
            "...         ...       ...       ...  ...       ...       ...        ...   \n",
            "21270  0.418586  0.373916  0.624442  ...  0.383923  0.624181   0.852309   \n",
            "21271  0.442017  0.383923  0.624181  ...  0.391928  0.623310   0.852196   \n",
            "21272  0.435088  0.391928  0.623310  ...  0.400600  0.622852   0.852593   \n",
            "21273  0.397579  0.400600  0.622852  ...  0.416278  0.623505   0.853146   \n",
            "21274  0.361513  0.416278  0.623505  ...  0.436291  0.623803   0.851888   \n",
            "\n",
            "       MEP(t-1)    SOG(t)    STW(t)    DWS(t)     WD(t)   TRIM(t)    MEP(t)  \n",
            "3      0.038064  0.081669  0.003341  0.129086  0.125836  0.525205  0.094917  \n",
            "4      0.094917  0.156983  0.004660  0.199133  0.204530  0.520748  0.169359  \n",
            "5      0.169359  0.229633  0.005978  0.269179  0.283161  0.516150  0.241156  \n",
            "6      0.241156  0.301234  0.007297  0.339226  0.361728  0.511355  0.312277  \n",
            "7      0.312277  0.376098  0.008616  0.409273  0.439449  0.506420  0.383825  \n",
            "...         ...       ...       ...       ...       ...       ...       ...  \n",
            "21270  0.217128  0.408581  0.435088  0.391928  0.623310  0.852196  0.208713  \n",
            "21271  0.208713  0.374693  0.397579  0.400600  0.622852  0.852593  0.193608  \n",
            "21272  0.193608  0.340613  0.361513  0.416278  0.623505  0.853146  0.184171  \n",
            "21273  0.184171  0.319912  0.341650  0.436291  0.623803  0.851888  0.172736  \n",
            "21274  0.172736  0.302915  0.329891  0.456304  0.622937  0.833854  0.167397  \n",
            "\n",
            "[21272 rows x 24 columns]\n",
            "       MEP(t)(t-1)  MEP(t+1)\n",
            "4         0.094917  0.169359\n",
            "5         0.169359  0.241156\n",
            "6         0.241156  0.312277\n",
            "7         0.312277  0.383825\n",
            "8         0.383825  0.456707\n",
            "...            ...       ...\n",
            "21270     0.217128  0.208713\n",
            "21271     0.208713  0.193608\n",
            "21272     0.193608  0.184171\n",
            "21273     0.184171  0.172736\n",
            "21274     0.172736  0.167397\n",
            "\n",
            "[21271 rows x 2 columns]\n"
          ]
        }
      ],
      "source": [
        "#Πρέπει να δημιουργήσουμε το κατάλληλο format για τα δεδομένα μας ώστε να εισαχθούν στο LSTM.\n",
        "# Αυτό που θέλουμε είναι για τις W (εδώ 3) προηγούμενες χρονικές στιγμές να δημιοργήσουμε στήλες για τα χαρακτηριστικά μας.\n",
        "#Οπότε η πρόβλεψη θα γίνεται με SOG(t-2),SOG(t-1),SOG(t),STW(t-2),...,MEP(t-2),MEP(t-1) και προβλέπουμε το MEP(t)\n",
        "#17 στήλες για input και 1 για output\n",
        "def series_to_supervised(data, n_in=1, n_out=1,dropnan=True):\n",
        "\n",
        "    \"\"\"\n",
        "    https://machinelearningmastery.com/convert-time-series-supervised-learning-problem-python/\n",
        "    Frame a time series as a supervised learning dataset.\n",
        "    Arguments:\n",
        "    data: Sequence of observations as a list or NumPy array.\n",
        "    n_in: Number of lag observations as input (X).\n",
        "    n_out: Number of observations as output (y).\n",
        "    dropnan: Boolean whether or not to drop rows with NaN values.\n",
        "    Returns:\n",
        "    Pandas DataFrame of series framed for supervised learning.\n",
        "    \"\"\"\n",
        "\n",
        "    n_vars = 1 if len(data.columns)==1 else data.shape[1]\n",
        "    df = DataFrame(data)\n",
        "    cols, names = list(), list()\n",
        "    # input sequence (t-n, ... t-1)\n",
        "    for i in range(n_in, 0, -1):\n",
        "        cols.append(df.shift(i))\n",
        "        names += [('%s(t-%d)' %(data.columns[j], i)) for j in range(n_vars)]\n",
        "    # forecast sequence (t, t+1, ... t+n)\n",
        "    for i in range(0, n_out):\n",
        "        cols.append(df.shift(-i))\n",
        "        if i == 0:\n",
        "            names += [('%s(t)' % data.columns[j]) for j in range(n_vars)]\n",
        "        else:\n",
        "            names += [('%s(t+%d)' % (dat.columns[j], i)) for j in range(n_vars)]\n",
        "    agg = concat(cols, axis=1)\n",
        "    agg.columns = names\n",
        "    # drop rows with NaN values\n",
        "    if dropnan:\n",
        "        agg.dropna(inplace=True)\n",
        "    return agg\n",
        "W=3\n",
        "data=series_to_supervised(X_train,W,1)\n",
        "print(data)\n",
        "#print(X_train['MEP'])\n",
        "y=series_to_supervised((data[['MEP(t)']].copy()),1,1)\n",
        "y=y.rename(columns={'MEP(t)(t)':'MEP(t+1)'})\n",
        "print(y)\n"
      ]
    },
    {
      "cell_type": "code",
      "execution_count": null,
      "id": "6d83f7c6",
      "metadata": {
        "colab": {
          "base_uri": "https://localhost:8080/"
        },
        "id": "6d83f7c6",
        "outputId": "d0e3fb30-67ca-4b23-a5e6-9997dc84251d"
      },
      "outputs": [
        {
          "output_type": "stream",
          "name": "stdout",
          "text": [
            "       SOG(t-3)  STW(t-3)  DWS(t-3)   WD(t-3)  TRIM(t-3)  MEP(t-3)  SOG(t-2)  \\\n",
            "3      0.000000  0.000000  0.000000  0.000000   0.531814  0.000000  0.007542   \n",
            "4      0.007542  0.000703  0.012342  0.003887   0.530743  0.009428  0.030128   \n",
            "5      0.030128  0.002022  0.059039  0.047076   0.528569  0.038064  0.081669   \n",
            "6      0.081669  0.003341  0.129086  0.125836   0.525205  0.094917  0.156983   \n",
            "7      0.156983  0.004660  0.199133  0.204530   0.520748  0.169359  0.229633   \n",
            "...         ...       ...       ...       ...        ...       ...       ...   \n",
            "21270  0.385813  0.411397  0.358906  0.628022   0.852718  0.205013  0.393741   \n",
            "21271  0.393741  0.418586  0.373916  0.624442   0.852788  0.215051  0.414539   \n",
            "21272  0.414539  0.442017  0.383923  0.624181   0.852309  0.217128  0.408581   \n",
            "21273  0.408581  0.435088  0.391928  0.623310   0.852196  0.208713  0.374693   \n",
            "21274  0.374693  0.397579  0.400600  0.622852   0.852593  0.193608  0.340613   \n",
            "\n",
            "       STW(t-2)  DWS(t-2)   WD(t-2)  ...  DWS(t-1)   WD(t-1)  TRIM(t-1)  \\\n",
            "3      0.000703  0.012342  0.003887  ...  0.059039  0.047076   0.528569   \n",
            "4      0.002022  0.059039  0.047076  ...  0.129086  0.125836   0.525205   \n",
            "5      0.003341  0.129086  0.125836  ...  0.199133  0.204530   0.520748   \n",
            "6      0.004660  0.199133  0.204530  ...  0.269179  0.283161   0.516150   \n",
            "7      0.005978  0.269179  0.283161  ...  0.339226  0.361728   0.511355   \n",
            "...         ...       ...       ...  ...       ...       ...        ...   \n",
            "21270  0.418586  0.373916  0.624442  ...  0.383923  0.624181   0.852309   \n",
            "21271  0.442017  0.383923  0.624181  ...  0.391928  0.623310   0.852196   \n",
            "21272  0.435088  0.391928  0.623310  ...  0.400600  0.622852   0.852593   \n",
            "21273  0.397579  0.400600  0.622852  ...  0.416278  0.623505   0.853146   \n",
            "21274  0.361513  0.416278  0.623505  ...  0.436291  0.623803   0.851888   \n",
            "\n",
            "       MEP(t-1)    SOG(t)    STW(t)    DWS(t)     WD(t)   TRIM(t)    MEP(t)  \n",
            "3      0.038064  0.081669  0.003341  0.129086  0.125836  0.525205  0.094917  \n",
            "4      0.094917  0.156983  0.004660  0.199133  0.204530  0.520748  0.169359  \n",
            "5      0.169359  0.229633  0.005978  0.269179  0.283161  0.516150  0.241156  \n",
            "6      0.241156  0.301234  0.007297  0.339226  0.361728  0.511355  0.312277  \n",
            "7      0.312277  0.376098  0.008616  0.409273  0.439449  0.506420  0.383825  \n",
            "...         ...       ...       ...       ...       ...       ...       ...  \n",
            "21270  0.217128  0.408581  0.435088  0.391928  0.623310  0.852196  0.208713  \n",
            "21271  0.208713  0.374693  0.397579  0.400600  0.622852  0.852593  0.193608  \n",
            "21272  0.193608  0.340613  0.361513  0.416278  0.623505  0.853146  0.184171  \n",
            "21273  0.184171  0.319912  0.341650  0.436291  0.623803  0.851888  0.172736  \n",
            "21274  0.172736  0.302915  0.329891  0.456304  0.622937  0.833854  0.167397  \n",
            "\n",
            "[21272 rows x 24 columns]\n",
            "4        0.169359\n",
            "5        0.241156\n",
            "6        0.312277\n",
            "7        0.383825\n",
            "8        0.456707\n",
            "           ...   \n",
            "21270    0.208713\n",
            "21271    0.193608\n",
            "21272    0.184171\n",
            "21273    0.172736\n",
            "21274    0.167397\n",
            "Name: MEP(t+1), Length: 21271, dtype: float64\n",
            "(21272, 24)\n",
            "(21271,)\n"
          ]
        }
      ],
      "source": [
        "#όπως είπαμε θα χρησιμοπιήσουμε τις 23 πρώτες στήλες για input και την 24 για output.\n",
        "N=(W+1)*6-1\n",
        "trainX=data #data.iloc[: , :N]\n",
        "trainY=y.iloc[:,1] #data.iloc[:,N]\n",
        "print(trainX)\n",
        "print(trainY)\n",
        "print(trainX.shape)\n",
        "print(trainY.shape)"
      ]
    },
    {
      "cell_type": "code",
      "execution_count": null,
      "id": "0628d964",
      "metadata": {
        "colab": {
          "base_uri": "https://localhost:8080/"
        },
        "id": "0628d964",
        "outputId": "51a56a9b-4e62-4103-9b7e-edbffa8adef8"
      },
      "outputs": [
        {
          "output_type": "stream",
          "name": "stdout",
          "text": [
            "[[0.00000000e+00 0.00000000e+00 0.00000000e+00 ... 1.25835776e-01\n",
            "  5.25205388e-01 9.49174869e-02]\n",
            " [7.54165899e-03 7.03339269e-04 1.23415610e-02 ... 2.04530402e-01\n",
            "  5.20748457e-01 1.69359388e-01]\n",
            " [3.01280926e-02 2.02210031e-03 5.90393596e-02 ... 2.83161046e-01\n",
            "  5.16149961e-01 2.41156064e-01]\n",
            " ...\n",
            " [3.93741196e-01 4.18586429e-01 3.73915944e-01 ... 6.22852059e-01\n",
            "  8.52592792e-01 1.93607576e-01]\n",
            " [4.14538571e-01 4.42016738e-01 3.83922615e-01 ... 6.23505412e-01\n",
            "  8.53146390e-01 1.84170676e-01]\n",
            " [4.08581474e-01 4.35087501e-01 3.91927952e-01 ... 6.23803294e-01\n",
            "  8.51887904e-01 1.72736152e-01]]\n",
            "(21271, 4, 6)\n"
          ]
        }
      ],
      "source": [
        "# reshape input to be 3D [samples, timesteps, features]\n",
        "trainX.drop(trainX.tail(1).index,inplace=True) #νομίχω ότι πρέπει να πετάξουμε την τελευταία γραμμή τώρα που εξετάζουμε το t+1\n",
        "trainX=trainX.values\n",
        "print(trainX)\n",
        "trainX=trainX.reshape(trainX.shape[0],W+1,6)\n",
        "print(trainX.shape)\n",
        "#τώρα τα δεδομένα μας έχουν το σωστό σχήμα για να μπουν μέσα στο keras lstm"
      ]
    },
    {
      "cell_type": "code",
      "execution_count": null,
      "id": "a513acb8",
      "metadata": {
        "colab": {
          "base_uri": "https://localhost:8080/"
        },
        "id": "a513acb8",
        "outputId": "663e00ba-3e0b-4fe9-d945-d2ceadb97e92"
      },
      "outputs": [
        {
          "output_type": "stream",
          "name": "stdout",
          "text": [
            "Model: \"sequential\"\n",
            "_________________________________________________________________\n",
            " Layer (type)                Output Shape              Param #   \n",
            "=================================================================\n",
            " lstm (LSTM)                 (None, 4, 64)             18176     \n",
            "                                                                 \n",
            " lstm_1 (LSTM)               (None, 32)                12416     \n",
            "                                                                 \n",
            " dropout (Dropout)           (None, 32)                0         \n",
            "                                                                 \n",
            " dense (Dense)               (None, 1)                 33        \n",
            "                                                                 \n",
            "=================================================================\n",
            "Total params: 30625 (119.63 KB)\n",
            "Trainable params: 30625 (119.63 KB)\n",
            "Non-trainable params: 0 (0.00 Byte)\n",
            "_________________________________________________________________\n"
          ]
        }
      ],
      "source": [
        "#πάμε να φτιάξουμε την δομή του lSTM\n",
        "model = Sequential()\n",
        "model.add(LSTM(64, input_shape=(trainX.shape[1], trainX.shape[2]), return_sequences=True))\n",
        "model.add(LSTM(32, return_sequences=False))\n",
        "model.add(Dropout(0.2)) #για να εμποδίσει το overfitting.\n",
        "model.add(Dense(1))\n",
        "\n",
        "model.compile(optimizer='adam', loss='mse')\n",
        "model.summary()\n"
      ]
    },
    {
      "cell_type": "code",
      "execution_count": 23,
      "id": "cae8ac69",
      "metadata": {
        "colab": {
          "base_uri": "https://localhost:8080/"
        },
        "id": "cae8ac69",
        "outputId": "ba5e3f79-fa2b-4d56-a2d9-5d56a886df9b"
      },
      "outputs": [
        {
          "output_type": "stream",
          "name": "stdout",
          "text": [
            "Epoch 1/5\n",
            "1330/1330 [==============================] - 14s 11ms/step - loss: 2.8704e-04\n",
            "Epoch 2/5\n",
            "1330/1330 [==============================] - 10s 8ms/step - loss: 2.8049e-04\n",
            "Epoch 3/5\n",
            "1330/1330 [==============================] - 11s 8ms/step - loss: 2.8709e-04\n",
            "Epoch 4/5\n",
            "1330/1330 [==============================] - 11s 8ms/step - loss: 2.8286e-04\n",
            "Epoch 5/5\n",
            "1330/1330 [==============================] - 12s 9ms/step - loss: 2.7759e-04\n"
          ]
        }
      ],
      "source": [
        "# fit the model\n",
        "history = model.fit(trainX, trainY, epochs=5, batch_size=16)"
      ]
    },
    {
      "cell_type": "code",
      "execution_count": 24,
      "id": "c55f73ae",
      "metadata": {
        "colab": {
          "base_uri": "https://localhost:8080/"
        },
        "id": "c55f73ae",
        "outputId": "03e713a7-d439-4a5d-82f4-7622305c3f22"
      },
      "outputs": [
        {
          "output_type": "stream",
          "name": "stdout",
          "text": [
            "3/3 [==============================] - 0s 5ms/step\n",
            "[3387.5837 3392.5012 3397.381  3396.5854 3396.7397 3398.1826 3401.9185\n",
            " 3405.8787 3403.64   3405.2698 3409.517  3404.1726 3399.683  3400.3013\n",
            " 3400.5452 3399.728  3397.0386 3395.6328 3399.441  3399.0864 3397.8933\n",
            " 3401.146  3405.533  3407.5298 3406.8196 3410.082  3413.555  3415.331\n",
            " 3416.335  3417.7852 3419.4375 3420.3267 3425.3606 3428.852  3426.4014\n",
            " 3425.3464 3426.8586 3427.4927 3428.0815 3429.799  3400.2673 3346.045\n",
            " 3300.4358 3262.0515 3227.4858 3188.2112 3146.5142 3105.289  3065.5964\n",
            " 3026.3396 3014.968  3030.4336 3033.7446 3030.0056 3030.5664 3035.2146\n",
            " 3040.3154 3041.917  3045.6814 2965.2544 3034.7073 3163.939  3170.2224\n",
            " 3215.4287 3256.0322 3299.2122 3336.4636 3380.3623 3418.9702 3383.8435\n",
            " 3086.3933 2861.4094 2739.1902 2492.1565 2392.009  2478.3696 2543.9458\n",
            " 2534.8008 2545.5596 2583.324  2630.0679 2761.6008 3014.9324 3260.3635\n",
            " 3365.1729 3279.4124 2997.419  2700.64   2631.3015 2914.208  3053.0588\n",
            " 2935.7756 2722.0364 2475.696  2443.133  2231.2468]\n",
            "21179    3404.244257\n",
            "21180    3406.746451\n",
            "21181    3407.615222\n",
            "21182    3407.665471\n",
            "21183    3407.911705\n",
            "            ...     \n",
            "21270    2839.817034\n",
            "21271    2634.610896\n",
            "21272    2506.412046\n",
            "21273    2351.075778\n",
            "21274    2278.539342\n",
            "Name: MEP, Length: 96, dtype: float64\n"
          ]
        }
      ],
      "source": [
        "prediction = model.predict(trainX[-96:]) #shape = (n, 1) where n is the n_days_for_prediction\n",
        "\n",
        "#Perform inverse transformation to rescale back to original range\n",
        "#Since we used 5 variables for transform, the inverse expects same dimensions\n",
        "#Therefore, let us copy our values 5 times and discard them after inverse transform\n",
        "prediction_copies = np.repeat(prediction,X.shape[1], axis=-1)\n",
        "#print(prediction_copies)\n",
        "y_pred_future = scaler.inverse_transform(prediction_copies)[:,5]\n",
        "print(y_pred_future)\n",
        "print(X['MEP'].iloc[-96:])"
      ]
    },
    {
      "cell_type": "code",
      "execution_count": 25,
      "id": "64815eab",
      "metadata": {
        "colab": {
          "base_uri": "https://localhost:8080/",
          "height": 512
        },
        "id": "64815eab",
        "outputId": "4d26a289-a277-45d7-eb29-8a159c74f27a"
      },
      "outputs": [
        {
          "output_type": "display_data",
          "data": {
            "text/plain": [
              "<Figure size 640x480 with 1 Axes>"
            ],
            "image/png": "[encoded data removed]"
          },
          "metadata": {}
        }
      ],
      "source": [
        "#τυπώνουμε ανα 15 λεπτά\n",
        "l=[i for i in range(0,96*15,15)]\n",
        "plt.plot(l, X['MEP'].iloc[-96:], marker='.', label=\"actual\")\n",
        "plt.plot(l, y_pred_future, 'r', label=\"prediction\")\n",
        "plt.tight_layout()\n",
        "plt.ylabel('Main Engine Power', size=15)\n",
        "plt.xlabel('Time step', size=15)\n",
        "plt.legend(fontsize=15)\n",
        "plt.show();\n"
      ]
    }
  ],
  "metadata": {
    "kernelspec": {
      "display_name": "Python 3 (ipykernel)",
      "language": "python",
      "name": "python3"
    },
    "language_info": {
      "codemirror_mode": {
        "name": "ipython",
        "version": 3
      },
      "file_extension": ".py",
      "mimetype": "text/x-python",
      "name": "python",
      "nbconvert_exporter": "python",
      "pygments_lexer": "ipython3",
      "version": "3.9.7"
    },
    "colab": {
      "provenance": [],
      "include_colab_link": true
    }
  },
  "nbformat": 4,
  "nbformat_minor": 5
}